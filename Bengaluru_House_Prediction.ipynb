{
  "nbformat": 4,
  "nbformat_minor": 0,
  "metadata": {
    "colab": {
      "name": "Bengaluru_House_Prediction.ipynb",
      "provenance": [],
      "collapsed_sections": [],
      "authorship_tag": "ABX9TyP7k/WEhsYdt6ldxqYNs9QD",
      "include_colab_link": true
    },
    "kernelspec": {
      "display_name": "Python 3",
      "name": "python3"
    },
    "language_info": {
      "name": "python"
    }
  },
  "cells": [
    {
      "cell_type": "markdown",
      "metadata": {
        "id": "view-in-github",
        "colab_type": "text"
      },
      "source": [
        "<a href=\"https://colab.research.google.com/github/sabaakram539/Bengaluru_House_Prediction/blob/main/Bengaluru_House_Prediction.ipynb\" target=\"_parent\"><img src=\"https://colab.research.google.com/assets/colab-badge.svg\" alt=\"Open In Colab\"/></a>"
      ]
    },
    {
      "cell_type": "markdown",
      "metadata": {
        "id": "ZfB1GKsk9SRQ"
      },
      "source": [
        "# **1. Problem Statement**"
      ]
    },
    {
      "cell_type": "markdown",
      "metadata": {
        "id": "uUKewcd49eFw"
      },
      "source": [
        "In this project we are going to find the price of the Bengaluru houses based on their features like 'area_type', location, size, etc. The data has been downloaded from the kaggle.com. Let's dig in."
      ]
    },
    {
      "cell_type": "markdown",
      "metadata": {
        "id": "q1NtOBdv-E-k"
      },
      "source": [
        "# **2. Data Understanding**"
      ]
    },
    {
      "cell_type": "code",
      "metadata": {
        "id": "clD_e-5i5BM0"
      },
      "source": [
        "import pandas as pd\n",
        "import numpy as np\n",
        "import matplotlib.pyplot as plt"
      ],
      "execution_count": 1,
      "outputs": []
    },
    {
      "cell_type": "markdown",
      "metadata": {
        "id": "5VkATvSXKCkJ"
      },
      "source": [
        ">> ## **Importing the Dataset**"
      ]
    },
    {
      "cell_type": "code",
      "metadata": {
        "colab": {
          "base_uri": "https://localhost:8080/",
          "height": 202
        },
        "id": "dBiNC7FR88yX",
        "outputId": "1054b5d6-97ef-4116-b19a-36deb06f5e7e"
      },
      "source": [
        "house=pd.read_csv(\"Bengaluru_House_Data.csv\")\n",
        "house.head()"
      ],
      "execution_count": 2,
      "outputs": [
        {
          "output_type": "execute_result",
          "data": {
            "text/html": [
              "<div>\n",
              "<style scoped>\n",
              "    .dataframe tbody tr th:only-of-type {\n",
              "        vertical-align: middle;\n",
              "    }\n",
              "\n",
              "    .dataframe tbody tr th {\n",
              "        vertical-align: top;\n",
              "    }\n",
              "\n",
              "    .dataframe thead th {\n",
              "        text-align: right;\n",
              "    }\n",
              "</style>\n",
              "<table border=\"1\" class=\"dataframe\">\n",
              "  <thead>\n",
              "    <tr style=\"text-align: right;\">\n",
              "      <th></th>\n",
              "      <th>area_type</th>\n",
              "      <th>availability</th>\n",
              "      <th>location</th>\n",
              "      <th>size</th>\n",
              "      <th>society</th>\n",
              "      <th>total_sqft</th>\n",
              "      <th>bath</th>\n",
              "      <th>balcony</th>\n",
              "      <th>price</th>\n",
              "    </tr>\n",
              "  </thead>\n",
              "  <tbody>\n",
              "    <tr>\n",
              "      <th>0</th>\n",
              "      <td>Super built-up  Area</td>\n",
              "      <td>19-Dec</td>\n",
              "      <td>Electronic City Phase II</td>\n",
              "      <td>2 BHK</td>\n",
              "      <td>Coomee</td>\n",
              "      <td>1056</td>\n",
              "      <td>2.0</td>\n",
              "      <td>1.0</td>\n",
              "      <td>39.07</td>\n",
              "    </tr>\n",
              "    <tr>\n",
              "      <th>1</th>\n",
              "      <td>Plot  Area</td>\n",
              "      <td>Ready To Move</td>\n",
              "      <td>Chikka Tirupathi</td>\n",
              "      <td>4 Bedroom</td>\n",
              "      <td>Theanmp</td>\n",
              "      <td>2600</td>\n",
              "      <td>5.0</td>\n",
              "      <td>3.0</td>\n",
              "      <td>120.00</td>\n",
              "    </tr>\n",
              "    <tr>\n",
              "      <th>2</th>\n",
              "      <td>Built-up  Area</td>\n",
              "      <td>Ready To Move</td>\n",
              "      <td>Uttarahalli</td>\n",
              "      <td>3 BHK</td>\n",
              "      <td>NaN</td>\n",
              "      <td>1440</td>\n",
              "      <td>2.0</td>\n",
              "      <td>3.0</td>\n",
              "      <td>62.00</td>\n",
              "    </tr>\n",
              "    <tr>\n",
              "      <th>3</th>\n",
              "      <td>Super built-up  Area</td>\n",
              "      <td>Ready To Move</td>\n",
              "      <td>Lingadheeranahalli</td>\n",
              "      <td>3 BHK</td>\n",
              "      <td>Soiewre</td>\n",
              "      <td>1521</td>\n",
              "      <td>3.0</td>\n",
              "      <td>1.0</td>\n",
              "      <td>95.00</td>\n",
              "    </tr>\n",
              "    <tr>\n",
              "      <th>4</th>\n",
              "      <td>Super built-up  Area</td>\n",
              "      <td>Ready To Move</td>\n",
              "      <td>Kothanur</td>\n",
              "      <td>2 BHK</td>\n",
              "      <td>NaN</td>\n",
              "      <td>1200</td>\n",
              "      <td>2.0</td>\n",
              "      <td>1.0</td>\n",
              "      <td>51.00</td>\n",
              "    </tr>\n",
              "  </tbody>\n",
              "</table>\n",
              "</div>"
            ],
            "text/plain": [
              "              area_type   availability  ... balcony   price\n",
              "0  Super built-up  Area         19-Dec  ...     1.0   39.07\n",
              "1            Plot  Area  Ready To Move  ...     3.0  120.00\n",
              "2        Built-up  Area  Ready To Move  ...     3.0   62.00\n",
              "3  Super built-up  Area  Ready To Move  ...     1.0   95.00\n",
              "4  Super built-up  Area  Ready To Move  ...     1.0   51.00\n",
              "\n",
              "[5 rows x 9 columns]"
            ]
          },
          "metadata": {},
          "execution_count": 2
        }
      ]
    },
    {
      "cell_type": "code",
      "metadata": {
        "colab": {
          "base_uri": "https://localhost:8080/"
        },
        "id": "mXawlpnmBAgG",
        "outputId": "1b994c91-83f1-4bee-c34b-a3ad77d5a280"
      },
      "source": [
        "house.shape"
      ],
      "execution_count": 3,
      "outputs": [
        {
          "output_type": "execute_result",
          "data": {
            "text/plain": [
              "(13320, 9)"
            ]
          },
          "metadata": {},
          "execution_count": 3
        }
      ]
    },
    {
      "cell_type": "markdown",
      "metadata": {
        "id": "Z0KCefo8KOFV"
      },
      "source": [
        ">> ## **Data Preprocessing and cleaning**"
      ]
    },
    {
      "cell_type": "code",
      "metadata": {
        "colab": {
          "base_uri": "https://localhost:8080/"
        },
        "id": "_b8TbNSS9DZe",
        "outputId": "c4400459-d1f4-4fd2-f3b1-6996d814d595"
      },
      "source": [
        "house.info()"
      ],
      "execution_count": 4,
      "outputs": [
        {
          "output_type": "stream",
          "name": "stdout",
          "text": [
            "<class 'pandas.core.frame.DataFrame'>\n",
            "RangeIndex: 13320 entries, 0 to 13319\n",
            "Data columns (total 9 columns):\n",
            " #   Column        Non-Null Count  Dtype  \n",
            "---  ------        --------------  -----  \n",
            " 0   area_type     13320 non-null  object \n",
            " 1   availability  13320 non-null  object \n",
            " 2   location      13319 non-null  object \n",
            " 3   size          13304 non-null  object \n",
            " 4   society       7818 non-null   object \n",
            " 5   total_sqft    13320 non-null  object \n",
            " 6   bath          13247 non-null  float64\n",
            " 7   balcony       12711 non-null  float64\n",
            " 8   price         13320 non-null  float64\n",
            "dtypes: float64(3), object(6)\n",
            "memory usage: 936.7+ KB\n"
          ]
        }
      ]
    },
    {
      "cell_type": "code",
      "metadata": {
        "id": "OtVNPVssCNdF"
      },
      "source": [
        "house.drop(columns=['society','balcony'],inplace=True)"
      ],
      "execution_count": 5,
      "outputs": []
    },
    {
      "cell_type": "code",
      "metadata": {
        "colab": {
          "base_uri": "https://localhost:8080/"
        },
        "id": "oQHv5oaiCdBw",
        "outputId": "7fc2c37d-26a0-4dfe-e839-b7b1333443f6"
      },
      "source": [
        "house.info()"
      ],
      "execution_count": 6,
      "outputs": [
        {
          "output_type": "stream",
          "name": "stdout",
          "text": [
            "<class 'pandas.core.frame.DataFrame'>\n",
            "RangeIndex: 13320 entries, 0 to 13319\n",
            "Data columns (total 7 columns):\n",
            " #   Column        Non-Null Count  Dtype  \n",
            "---  ------        --------------  -----  \n",
            " 0   area_type     13320 non-null  object \n",
            " 1   availability  13320 non-null  object \n",
            " 2   location      13319 non-null  object \n",
            " 3   size          13304 non-null  object \n",
            " 4   total_sqft    13320 non-null  object \n",
            " 5   bath          13247 non-null  float64\n",
            " 6   price         13320 non-null  float64\n",
            "dtypes: float64(2), object(5)\n",
            "memory usage: 728.6+ KB\n"
          ]
        }
      ]
    },
    {
      "cell_type": "code",
      "metadata": {
        "colab": {
          "base_uri": "https://localhost:8080/"
        },
        "id": "8Uom_7bQ9JDj",
        "outputId": "b6cbddef-c411-4a9c-fec5-5d424e1bee37"
      },
      "source": [
        "house.area_type.value_counts()"
      ],
      "execution_count": 7,
      "outputs": [
        {
          "output_type": "execute_result",
          "data": {
            "text/plain": [
              "Super built-up  Area    8790\n",
              "Built-up  Area          2418\n",
              "Plot  Area              2025\n",
              "Carpet  Area              87\n",
              "Name: area_type, dtype: int64"
            ]
          },
          "metadata": {},
          "execution_count": 7
        }
      ]
    },
    {
      "cell_type": "code",
      "metadata": {
        "colab": {
          "base_uri": "https://localhost:8080/"
        },
        "id": "n5FfoKSgnoaF",
        "outputId": "dea63f1f-ab2c-4e7f-9daf-39120351a442"
      },
      "source": [
        "house['availability'].value_counts()"
      ],
      "execution_count": 8,
      "outputs": [
        {
          "output_type": "execute_result",
          "data": {
            "text/plain": [
              "Ready To Move    10581\n",
              "18-Dec             307\n",
              "18-May             295\n",
              "18-Apr             271\n",
              "18-Aug             200\n",
              "                 ...  \n",
              "16-Jul               1\n",
              "14-Jul               1\n",
              "15-Dec               1\n",
              "16-Oct               1\n",
              "16-Nov               1\n",
              "Name: availability, Length: 81, dtype: int64"
            ]
          },
          "metadata": {},
          "execution_count": 8
        }
      ]
    },
    {
      "cell_type": "code",
      "metadata": {
        "colab": {
          "base_uri": "https://localhost:8080/"
        },
        "id": "iV8JpAfSn0QU",
        "outputId": "42dc1b70-6ca4-4aa1-fc15-caea143865b8"
      },
      "source": [
        "availability_count=house['availability'].value_counts()\n",
        "availability_count"
      ],
      "execution_count": 9,
      "outputs": [
        {
          "output_type": "execute_result",
          "data": {
            "text/plain": [
              "Ready To Move    10581\n",
              "18-Dec             307\n",
              "18-May             295\n",
              "18-Apr             271\n",
              "18-Aug             200\n",
              "                 ...  \n",
              "16-Jul               1\n",
              "14-Jul               1\n",
              "15-Dec               1\n",
              "16-Oct               1\n",
              "16-Nov               1\n",
              "Name: availability, Length: 81, dtype: int64"
            ]
          },
          "metadata": {},
          "execution_count": 9
        }
      ]
    },
    {
      "cell_type": "code",
      "metadata": {
        "colab": {
          "base_uri": "https://localhost:8080/"
        },
        "id": "K_QAzUb2KOAa",
        "outputId": "77900d34-3a5b-44b8-92cb-6af576126fcb"
      },
      "source": [
        "availability_count.value_counts()"
      ],
      "execution_count": 10,
      "outputs": [
        {
          "output_type": "execute_result",
          "data": {
            "text/plain": [
              "1        10\n",
              "2         7\n",
              "6         5\n",
              "4         4\n",
              "3         4\n",
              "12        4\n",
              "11        3\n",
              "5         3\n",
              "7         3\n",
              "16        3\n",
              "39        2\n",
              "21        2\n",
              "9         2\n",
              "8         2\n",
              "18        1\n",
              "13        1\n",
              "14        1\n",
              "271       1\n",
              "15        1\n",
              "17        1\n",
              "131       1\n",
              "10        1\n",
              "143       1\n",
              "19        1\n",
              "29        1\n",
              "99        1\n",
              "98        1\n",
              "93        1\n",
              "88        1\n",
              "10581     1\n",
              "200       1\n",
              "62        1\n",
              "185       1\n",
              "307       1\n",
              "47        1\n",
              "43        1\n",
              "41        1\n",
              "40        1\n",
              "295       1\n",
              "36        1\n",
              "24        1\n",
              "Name: availability, dtype: int64"
            ]
          },
          "metadata": {},
          "execution_count": 10
        }
      ]
    },
    {
      "cell_type": "code",
      "metadata": {
        "id": "Cttd3fISMzN4"
      },
      "source": [
        "availability_count_less_10=availability_count[availability_count<=10]\n",
        "\n",
        "availability_count_greater_10=availability_count[availability_count>10]\n",
        "availability_count_10_20=availability_count_greater_10[availability_count_greater_10<=20]\n",
        "\n",
        "availability_count_greater_20=availability_count[availability_count>20]\n",
        "availability_count_20_30=availability_count_greater_20[availability_count_greater_20<=30]\n",
        "\n",
        "availability_count_greater_30=availability_count[availability_count>30]\n",
        "availability_count_30_40=availability_count_greater_30[availability_count_greater_30<=40]\n",
        "\n",
        "availability_count_greater_40=availability_count[availability_count>40]\n",
        "availability_count_40_50=availability_count_greater_40[availability_count_greater_40<=50]\n",
        "\n",
        "availability_count_greater_50=availability_count[availability_count>50]\n",
        "availability_count_50_60=availability_count_greater_50[availability_count_greater_50<=60]\n",
        "\n",
        "availability_count_greater_60=availability_count[availability_count>60]\n",
        "availability_count_60_70=availability_count_greater_60[availability_count_greater_60<=70]\n",
        "\n",
        "availability_count_greater_70=availability_count[availability_count>70]\n",
        "availability_count_70_80=availability_count_greater_70[availability_count_greater_70<=80]\n",
        "\n",
        "availability_count_greater_80=availability_count[availability_count>80]\n",
        "availability_count_80_90=availability_count_greater_80[availability_count_greater_80<=90]\n",
        "\n",
        "availability_count_greater_90=availability_count[availability_count>90]\n",
        "availability_count_90_100=availability_count_greater_90[availability_count_greater_90<=100]"
      ],
      "execution_count": 11,
      "outputs": []
    },
    {
      "cell_type": "code",
      "metadata": {
        "id": "swwelnOnEw7v"
      },
      "source": [
        "house['availability']=house['availability'].apply(lambda x: \"availability_count_less_10\" if x in availability_count_less_10 else x)\n",
        "house['availability']=house['availability'].apply(lambda x: \"availability_count_10_20\" if x in availability_count_10_20 else x)\n",
        "house['availability']=house['availability'].apply(lambda x: \"availability_count_20_30\" if x in availability_count_20_30 else x)\n",
        "house['availability']=house['availability'].apply(lambda x: \"availability_count_30_40\" if x in availability_count_30_40 else x)\n",
        "house['availability']=house['availability'].apply(lambda x: \"availability_count_40_50\" if x in availability_count_40_50 else x)\n",
        "house['availability']=house['availability'].apply(lambda x: \"availability_count_50_60\" if x in availability_count_50_60 else x)\n",
        "house['availability']=house['availability'].apply(lambda x: \"availability_count_60_70\" if x in availability_count_60_70 else x)\n",
        "house['availability']=house['availability'].apply(lambda x: \"availability_count_70_80\" if x in availability_count_70_80 else x)\n",
        "house['availability']=house['availability'].apply(lambda x: \"availability_count_80_90\" if x in availability_count_80_90 else x)\n",
        "house['availability']=house['availability'].apply(lambda x: \"availability_count_90_100\" if x in availability_count_90_100 else x)"
      ],
      "execution_count": 12,
      "outputs": []
    },
    {
      "cell_type": "code",
      "metadata": {
        "colab": {
          "base_uri": "https://localhost:8080/"
        },
        "id": "x2oe07EEE7o4",
        "outputId": "8e64b600-d3ab-46e4-a674-c12a43d2c074"
      },
      "source": [
        "house['location'].value_counts()"
      ],
      "execution_count": 13,
      "outputs": [
        {
          "output_type": "execute_result",
          "data": {
            "text/plain": [
              "Whitefield                    540\n",
              "Sarjapur  Road                399\n",
              "Electronic City               302\n",
              "Kanakpura Road                273\n",
              "Thanisandra                   234\n",
              "                             ... \n",
              "Mullur                          1\n",
              "Yemlur, Old Airport Road,       1\n",
              "Prasanth Extension              1\n",
              "Doddanakunte                    1\n",
              "NR Colony                       1\n",
              "Name: location, Length: 1305, dtype: int64"
            ]
          },
          "metadata": {},
          "execution_count": 13
        }
      ]
    },
    {
      "cell_type": "code",
      "metadata": {
        "id": "cufcybxPH3qV"
      },
      "source": [
        "house['location']=house['location'].str.strip()"
      ],
      "execution_count": 14,
      "outputs": []
    },
    {
      "cell_type": "code",
      "metadata": {
        "id": "GgQ-AlaIISrl"
      },
      "source": [
        "location_count=house['location'].value_counts()"
      ],
      "execution_count": 15,
      "outputs": []
    },
    {
      "cell_type": "code",
      "metadata": {
        "id": "sszZ0grDIpbA"
      },
      "source": [
        "location_count_less_10=location_count[location_count<=10]"
      ],
      "execution_count": 16,
      "outputs": []
    },
    {
      "cell_type": "code",
      "metadata": {
        "id": "e6jJh_d0Ir6-"
      },
      "source": [
        "house['location']=house['location'].apply(lambda x: \"Others\" if x in location_count_less_10 else x)"
      ],
      "execution_count": 17,
      "outputs": []
    },
    {
      "cell_type": "code",
      "metadata": {
        "id": "340gMDFGUimw"
      },
      "source": [
        "house['location']=house['location'].fillna(\"Others\")"
      ],
      "execution_count": 18,
      "outputs": []
    },
    {
      "cell_type": "code",
      "metadata": {
        "colab": {
          "base_uri": "https://localhost:8080/"
        },
        "id": "-2PsUPR1Jy5x",
        "outputId": "50f44dc5-06f8-4bab-d5c4-4bba7d356b44"
      },
      "source": [
        "house['location'].value_counts()"
      ],
      "execution_count": 19,
      "outputs": [
        {
          "output_type": "execute_result",
          "data": {
            "text/plain": [
              "Others              2886\n",
              "Whitefield           541\n",
              "Sarjapur  Road       399\n",
              "Electronic City      304\n",
              "Kanakpura Road       273\n",
              "                    ... \n",
              "HAL 2nd Stage         11\n",
              "Tindlu                11\n",
              "LB Shastri Nagar      11\n",
              "Marsur                11\n",
              "Banjara Layout        11\n",
              "Name: location, Length: 242, dtype: int64"
            ]
          },
          "metadata": {},
          "execution_count": 19
        }
      ]
    },
    {
      "cell_type": "code",
      "metadata": {
        "colab": {
          "base_uri": "https://localhost:8080/"
        },
        "id": "RlC528QPJbUC",
        "outputId": "404ff5d9-f81f-4848-fd1e-fc20640f821f"
      },
      "source": [
        "house.info()"
      ],
      "execution_count": 20,
      "outputs": [
        {
          "output_type": "stream",
          "name": "stdout",
          "text": [
            "<class 'pandas.core.frame.DataFrame'>\n",
            "RangeIndex: 13320 entries, 0 to 13319\n",
            "Data columns (total 7 columns):\n",
            " #   Column        Non-Null Count  Dtype  \n",
            "---  ------        --------------  -----  \n",
            " 0   area_type     13320 non-null  object \n",
            " 1   availability  13320 non-null  object \n",
            " 2   location      13320 non-null  object \n",
            " 3   size          13304 non-null  object \n",
            " 4   total_sqft    13320 non-null  object \n",
            " 5   bath          13247 non-null  float64\n",
            " 6   price         13320 non-null  float64\n",
            "dtypes: float64(2), object(5)\n",
            "memory usage: 728.6+ KB\n"
          ]
        }
      ]
    },
    {
      "cell_type": "code",
      "metadata": {
        "colab": {
          "base_uri": "https://localhost:8080/"
        },
        "id": "0dt0JTDRKbcb",
        "outputId": "5ae4e03f-3f7d-4b12-a292-c9720f56f5e8"
      },
      "source": [
        "house['size'].value_counts()"
      ],
      "execution_count": 21,
      "outputs": [
        {
          "output_type": "execute_result",
          "data": {
            "text/plain": [
              "2 BHK         5199\n",
              "3 BHK         4310\n",
              "4 Bedroom      826\n",
              "4 BHK          591\n",
              "3 Bedroom      547\n",
              "1 BHK          538\n",
              "2 Bedroom      329\n",
              "5 Bedroom      297\n",
              "6 Bedroom      191\n",
              "1 Bedroom      105\n",
              "8 Bedroom       84\n",
              "7 Bedroom       83\n",
              "5 BHK           59\n",
              "9 Bedroom       46\n",
              "6 BHK           30\n",
              "7 BHK           17\n",
              "1 RK            13\n",
              "10 Bedroom      12\n",
              "9 BHK            8\n",
              "8 BHK            5\n",
              "10 BHK           2\n",
              "11 Bedroom       2\n",
              "11 BHK           2\n",
              "43 Bedroom       1\n",
              "19 BHK           1\n",
              "16 BHK           1\n",
              "18 Bedroom       1\n",
              "12 Bedroom       1\n",
              "13 BHK           1\n",
              "27 BHK           1\n",
              "14 BHK           1\n",
              "Name: size, dtype: int64"
            ]
          },
          "metadata": {},
          "execution_count": 21
        }
      ]
    },
    {
      "cell_type": "code",
      "metadata": {
        "id": "4rgfQDf3Ktt_"
      },
      "source": [
        "house['size']=house['size'].fillna(\"2 BHK\")"
      ],
      "execution_count": 22,
      "outputs": []
    },
    {
      "cell_type": "code",
      "metadata": {
        "id": "lwRIYXkgLLe-"
      },
      "source": [
        "house['BHK']=house['size'].str.split().str.get(0).astype(int)"
      ],
      "execution_count": 23,
      "outputs": []
    },
    {
      "cell_type": "code",
      "metadata": {
        "id": "2fOgvesBUDTr"
      },
      "source": [
        "house.drop(columns=['size'],inplace=True)"
      ],
      "execution_count": 24,
      "outputs": []
    },
    {
      "cell_type": "code",
      "metadata": {
        "colab": {
          "base_uri": "https://localhost:8080/"
        },
        "id": "MiHmiCTIUaVx",
        "outputId": "09ed8f97-25e0-4fea-9f2d-6513af8f4e09"
      },
      "source": [
        "house.info()"
      ],
      "execution_count": 25,
      "outputs": [
        {
          "output_type": "stream",
          "name": "stdout",
          "text": [
            "<class 'pandas.core.frame.DataFrame'>\n",
            "RangeIndex: 13320 entries, 0 to 13319\n",
            "Data columns (total 7 columns):\n",
            " #   Column        Non-Null Count  Dtype  \n",
            "---  ------        --------------  -----  \n",
            " 0   area_type     13320 non-null  object \n",
            " 1   availability  13320 non-null  object \n",
            " 2   location      13320 non-null  object \n",
            " 3   total_sqft    13320 non-null  object \n",
            " 4   bath          13247 non-null  float64\n",
            " 5   price         13320 non-null  float64\n",
            " 6   BHK           13320 non-null  int64  \n",
            "dtypes: float64(2), int64(1), object(4)\n",
            "memory usage: 728.6+ KB\n"
          ]
        }
      ]
    },
    {
      "cell_type": "code",
      "metadata": {
        "colab": {
          "base_uri": "https://localhost:8080/"
        },
        "id": "6ZZpEHevUb4q",
        "outputId": "7c5f4429-f3c2-4d2c-e358-b960ed3a26b6"
      },
      "source": [
        "house['total_sqft'].unique()"
      ],
      "execution_count": 26,
      "outputs": [
        {
          "output_type": "execute_result",
          "data": {
            "text/plain": [
              "array(['1056', '2600', '1440', ..., '1133 - 1384', '774', '4689'],\n",
              "      dtype=object)"
            ]
          },
          "metadata": {},
          "execution_count": 26
        }
      ]
    },
    {
      "cell_type": "code",
      "metadata": {
        "id": "SXILPzY-U1VN"
      },
      "source": [
        "def sqft(x):\n",
        "  temp=x.split('-')\n",
        "  if len(temp)==2:\n",
        "    return (float(temp[0])+float(temp[1]))/2\n",
        "  try:\n",
        "    return float(x)\n",
        "  except:\n",
        "    return None"
      ],
      "execution_count": 27,
      "outputs": []
    },
    {
      "cell_type": "code",
      "metadata": {
        "id": "XlwtAnkjnmNU"
      },
      "source": [
        "house['total_sqft']=house['total_sqft'].apply(sqft)"
      ],
      "execution_count": 28,
      "outputs": []
    },
    {
      "cell_type": "code",
      "metadata": {
        "colab": {
          "base_uri": "https://localhost:8080/"
        },
        "id": "l2Dk08IIoSdC",
        "outputId": "0defc528-dbf0-410b-9ea0-3a92bc433f84"
      },
      "source": [
        "house.info()"
      ],
      "execution_count": 29,
      "outputs": [
        {
          "output_type": "stream",
          "name": "stdout",
          "text": [
            "<class 'pandas.core.frame.DataFrame'>\n",
            "RangeIndex: 13320 entries, 0 to 13319\n",
            "Data columns (total 7 columns):\n",
            " #   Column        Non-Null Count  Dtype  \n",
            "---  ------        --------------  -----  \n",
            " 0   area_type     13320 non-null  object \n",
            " 1   availability  13320 non-null  object \n",
            " 2   location      13320 non-null  object \n",
            " 3   total_sqft    13274 non-null  float64\n",
            " 4   bath          13247 non-null  float64\n",
            " 5   price         13320 non-null  float64\n",
            " 6   BHK           13320 non-null  int64  \n",
            "dtypes: float64(3), int64(1), object(3)\n",
            "memory usage: 728.6+ KB\n"
          ]
        }
      ]
    },
    {
      "cell_type": "code",
      "metadata": {
        "id": "19yObDkJp6ww"
      },
      "source": [
        "house['price_per_sqft']=house['price']*100000/house['total_sqft']"
      ],
      "execution_count": 30,
      "outputs": []
    },
    {
      "cell_type": "code",
      "metadata": {
        "colab": {
          "base_uri": "https://localhost:8080/",
          "height": 202
        },
        "id": "oltBz49HqfHj",
        "outputId": "85984954-01d8-47ec-93de-887130c32e72"
      },
      "source": [
        "house.head()"
      ],
      "execution_count": 31,
      "outputs": [
        {
          "output_type": "execute_result",
          "data": {
            "text/html": [
              "<div>\n",
              "<style scoped>\n",
              "    .dataframe tbody tr th:only-of-type {\n",
              "        vertical-align: middle;\n",
              "    }\n",
              "\n",
              "    .dataframe tbody tr th {\n",
              "        vertical-align: top;\n",
              "    }\n",
              "\n",
              "    .dataframe thead th {\n",
              "        text-align: right;\n",
              "    }\n",
              "</style>\n",
              "<table border=\"1\" class=\"dataframe\">\n",
              "  <thead>\n",
              "    <tr style=\"text-align: right;\">\n",
              "      <th></th>\n",
              "      <th>area_type</th>\n",
              "      <th>availability</th>\n",
              "      <th>location</th>\n",
              "      <th>total_sqft</th>\n",
              "      <th>bath</th>\n",
              "      <th>price</th>\n",
              "      <th>BHK</th>\n",
              "      <th>price_per_sqft</th>\n",
              "    </tr>\n",
              "  </thead>\n",
              "  <tbody>\n",
              "    <tr>\n",
              "      <th>0</th>\n",
              "      <td>Super built-up  Area</td>\n",
              "      <td>19-Dec</td>\n",
              "      <td>Electronic City Phase II</td>\n",
              "      <td>1056.0</td>\n",
              "      <td>2.0</td>\n",
              "      <td>39.07</td>\n",
              "      <td>2</td>\n",
              "      <td>3699.810606</td>\n",
              "    </tr>\n",
              "    <tr>\n",
              "      <th>1</th>\n",
              "      <td>Plot  Area</td>\n",
              "      <td>Ready To Move</td>\n",
              "      <td>Chikka Tirupathi</td>\n",
              "      <td>2600.0</td>\n",
              "      <td>5.0</td>\n",
              "      <td>120.00</td>\n",
              "      <td>4</td>\n",
              "      <td>4615.384615</td>\n",
              "    </tr>\n",
              "    <tr>\n",
              "      <th>2</th>\n",
              "      <td>Built-up  Area</td>\n",
              "      <td>Ready To Move</td>\n",
              "      <td>Uttarahalli</td>\n",
              "      <td>1440.0</td>\n",
              "      <td>2.0</td>\n",
              "      <td>62.00</td>\n",
              "      <td>3</td>\n",
              "      <td>4305.555556</td>\n",
              "    </tr>\n",
              "    <tr>\n",
              "      <th>3</th>\n",
              "      <td>Super built-up  Area</td>\n",
              "      <td>Ready To Move</td>\n",
              "      <td>Lingadheeranahalli</td>\n",
              "      <td>1521.0</td>\n",
              "      <td>3.0</td>\n",
              "      <td>95.00</td>\n",
              "      <td>3</td>\n",
              "      <td>6245.890861</td>\n",
              "    </tr>\n",
              "    <tr>\n",
              "      <th>4</th>\n",
              "      <td>Super built-up  Area</td>\n",
              "      <td>Ready To Move</td>\n",
              "      <td>Kothanur</td>\n",
              "      <td>1200.0</td>\n",
              "      <td>2.0</td>\n",
              "      <td>51.00</td>\n",
              "      <td>2</td>\n",
              "      <td>4250.000000</td>\n",
              "    </tr>\n",
              "  </tbody>\n",
              "</table>\n",
              "</div>"
            ],
            "text/plain": [
              "              area_type   availability  ... BHK  price_per_sqft\n",
              "0  Super built-up  Area         19-Dec  ...   2     3699.810606\n",
              "1            Plot  Area  Ready To Move  ...   4     4615.384615\n",
              "2        Built-up  Area  Ready To Move  ...   3     4305.555556\n",
              "3  Super built-up  Area  Ready To Move  ...   3     6245.890861\n",
              "4  Super built-up  Area  Ready To Move  ...   2     4250.000000\n",
              "\n",
              "[5 rows x 8 columns]"
            ]
          },
          "metadata": {},
          "execution_count": 31
        }
      ]
    },
    {
      "cell_type": "markdown",
      "metadata": {
        "id": "MSO5PdMpqu5N"
      },
      "source": [
        ">> ## **Outlier Detection and Removal**"
      ]
    },
    {
      "cell_type": "code",
      "metadata": {
        "colab": {
          "base_uri": "https://localhost:8080/",
          "height": 294
        },
        "id": "EB1GaSfNqlAU",
        "outputId": "1fd4e71c-3697-4f4a-ea51-934d369931ea"
      },
      "source": [
        "house.describe()"
      ],
      "execution_count": 32,
      "outputs": [
        {
          "output_type": "execute_result",
          "data": {
            "text/html": [
              "<div>\n",
              "<style scoped>\n",
              "    .dataframe tbody tr th:only-of-type {\n",
              "        vertical-align: middle;\n",
              "    }\n",
              "\n",
              "    .dataframe tbody tr th {\n",
              "        vertical-align: top;\n",
              "    }\n",
              "\n",
              "    .dataframe thead th {\n",
              "        text-align: right;\n",
              "    }\n",
              "</style>\n",
              "<table border=\"1\" class=\"dataframe\">\n",
              "  <thead>\n",
              "    <tr style=\"text-align: right;\">\n",
              "      <th></th>\n",
              "      <th>total_sqft</th>\n",
              "      <th>bath</th>\n",
              "      <th>price</th>\n",
              "      <th>BHK</th>\n",
              "      <th>price_per_sqft</th>\n",
              "    </tr>\n",
              "  </thead>\n",
              "  <tbody>\n",
              "    <tr>\n",
              "      <th>count</th>\n",
              "      <td>13274.000000</td>\n",
              "      <td>13247.000000</td>\n",
              "      <td>13320.000000</td>\n",
              "      <td>13320.000000</td>\n",
              "      <td>1.327400e+04</td>\n",
              "    </tr>\n",
              "    <tr>\n",
              "      <th>mean</th>\n",
              "      <td>1559.626694</td>\n",
              "      <td>2.692610</td>\n",
              "      <td>112.565627</td>\n",
              "      <td>2.802778</td>\n",
              "      <td>7.907501e+03</td>\n",
              "    </tr>\n",
              "    <tr>\n",
              "      <th>std</th>\n",
              "      <td>1238.405258</td>\n",
              "      <td>1.341458</td>\n",
              "      <td>148.971674</td>\n",
              "      <td>1.294496</td>\n",
              "      <td>1.064296e+05</td>\n",
              "    </tr>\n",
              "    <tr>\n",
              "      <th>min</th>\n",
              "      <td>1.000000</td>\n",
              "      <td>1.000000</td>\n",
              "      <td>8.000000</td>\n",
              "      <td>1.000000</td>\n",
              "      <td>2.678298e+02</td>\n",
              "    </tr>\n",
              "    <tr>\n",
              "      <th>25%</th>\n",
              "      <td>1100.000000</td>\n",
              "      <td>2.000000</td>\n",
              "      <td>50.000000</td>\n",
              "      <td>2.000000</td>\n",
              "      <td>4.266865e+03</td>\n",
              "    </tr>\n",
              "    <tr>\n",
              "      <th>50%</th>\n",
              "      <td>1276.000000</td>\n",
              "      <td>2.000000</td>\n",
              "      <td>72.000000</td>\n",
              "      <td>3.000000</td>\n",
              "      <td>5.434306e+03</td>\n",
              "    </tr>\n",
              "    <tr>\n",
              "      <th>75%</th>\n",
              "      <td>1680.000000</td>\n",
              "      <td>3.000000</td>\n",
              "      <td>120.000000</td>\n",
              "      <td>3.000000</td>\n",
              "      <td>7.311746e+03</td>\n",
              "    </tr>\n",
              "    <tr>\n",
              "      <th>max</th>\n",
              "      <td>52272.000000</td>\n",
              "      <td>40.000000</td>\n",
              "      <td>3600.000000</td>\n",
              "      <td>43.000000</td>\n",
              "      <td>1.200000e+07</td>\n",
              "    </tr>\n",
              "  </tbody>\n",
              "</table>\n",
              "</div>"
            ],
            "text/plain": [
              "         total_sqft          bath         price           BHK  price_per_sqft\n",
              "count  13274.000000  13247.000000  13320.000000  13320.000000    1.327400e+04\n",
              "mean    1559.626694      2.692610    112.565627      2.802778    7.907501e+03\n",
              "std     1238.405258      1.341458    148.971674      1.294496    1.064296e+05\n",
              "min        1.000000      1.000000      8.000000      1.000000    2.678298e+02\n",
              "25%     1100.000000      2.000000     50.000000      2.000000    4.266865e+03\n",
              "50%     1276.000000      2.000000     72.000000      3.000000    5.434306e+03\n",
              "75%     1680.000000      3.000000    120.000000      3.000000    7.311746e+03\n",
              "max    52272.000000     40.000000   3600.000000     43.000000    1.200000e+07"
            ]
          },
          "metadata": {},
          "execution_count": 32
        }
      ]
    },
    {
      "cell_type": "markdown",
      "metadata": {
        "id": "i_PbFZaYrDiL"
      },
      "source": [
        "\n",
        "1.   **total_sqft :** \n",
        "Minimum total_sqft is 1, while despite 75th percentile is 1680, we have maximum 52272.\n",
        "2.   **bath :** \n",
        "Maximum number of bathrooms is 40.\n",
        "3. **BHK :** \n",
        "maximum BHK is 43.\n",
        "4. **price_per_sqft :** \n",
        "While 75th percentile of the value is less than 7311, we have maximum 12000000.\n",
        "\n"
      ]
    },
    {
      "cell_type": "markdown",
      "metadata": {
        "id": "-eejPG4KCuS-"
      },
      "source": [
        ">> **BHK/Bath ratio**"
      ]
    },
    {
      "cell_type": "code",
      "metadata": {
        "id": "OvlIb_zPq5bL"
      },
      "source": [
        "house['bhk_bath_ratio']=house['BHK']/house['bath']"
      ],
      "execution_count": 33,
      "outputs": []
    },
    {
      "cell_type": "code",
      "metadata": {
        "colab": {
          "base_uri": "https://localhost:8080/",
          "height": 414
        },
        "id": "g_MwRJkuEaXO",
        "outputId": "db969e2b-ac89-4359-970d-40d97b521213"
      },
      "source": [
        "house[house['bhk_bath_ratio']<1]"
      ],
      "execution_count": 34,
      "outputs": [
        {
          "output_type": "execute_result",
          "data": {
            "text/html": [
              "<div>\n",
              "<style scoped>\n",
              "    .dataframe tbody tr th:only-of-type {\n",
              "        vertical-align: middle;\n",
              "    }\n",
              "\n",
              "    .dataframe tbody tr th {\n",
              "        vertical-align: top;\n",
              "    }\n",
              "\n",
              "    .dataframe thead th {\n",
              "        text-align: right;\n",
              "    }\n",
              "</style>\n",
              "<table border=\"1\" class=\"dataframe\">\n",
              "  <thead>\n",
              "    <tr style=\"text-align: right;\">\n",
              "      <th></th>\n",
              "      <th>area_type</th>\n",
              "      <th>availability</th>\n",
              "      <th>location</th>\n",
              "      <th>total_sqft</th>\n",
              "      <th>bath</th>\n",
              "      <th>price</th>\n",
              "      <th>BHK</th>\n",
              "      <th>price_per_sqft</th>\n",
              "      <th>bhk_bath_ratio</th>\n",
              "    </tr>\n",
              "  </thead>\n",
              "  <tbody>\n",
              "    <tr>\n",
              "      <th>1</th>\n",
              "      <td>Plot  Area</td>\n",
              "      <td>Ready To Move</td>\n",
              "      <td>Chikka Tirupathi</td>\n",
              "      <td>2600.0</td>\n",
              "      <td>5.0</td>\n",
              "      <td>120.0</td>\n",
              "      <td>4</td>\n",
              "      <td>4615.384615</td>\n",
              "      <td>0.800000</td>\n",
              "    </tr>\n",
              "    <tr>\n",
              "      <th>11</th>\n",
              "      <td>Plot  Area</td>\n",
              "      <td>Ready To Move</td>\n",
              "      <td>Whitefield</td>\n",
              "      <td>2785.0</td>\n",
              "      <td>5.0</td>\n",
              "      <td>295.0</td>\n",
              "      <td>4</td>\n",
              "      <td>10592.459605</td>\n",
              "      <td>0.800000</td>\n",
              "    </tr>\n",
              "    <tr>\n",
              "      <th>18</th>\n",
              "      <td>Super built-up  Area</td>\n",
              "      <td>Ready To Move</td>\n",
              "      <td>Others</td>\n",
              "      <td>2770.0</td>\n",
              "      <td>4.0</td>\n",
              "      <td>290.0</td>\n",
              "      <td>3</td>\n",
              "      <td>10469.314079</td>\n",
              "      <td>0.750000</td>\n",
              "    </tr>\n",
              "    <tr>\n",
              "      <th>22</th>\n",
              "      <td>Plot  Area</td>\n",
              "      <td>Ready To Move</td>\n",
              "      <td>Thanisandra</td>\n",
              "      <td>2800.0</td>\n",
              "      <td>5.0</td>\n",
              "      <td>380.0</td>\n",
              "      <td>4</td>\n",
              "      <td>13571.428571</td>\n",
              "      <td>0.800000</td>\n",
              "    </tr>\n",
              "    <tr>\n",
              "      <th>45</th>\n",
              "      <td>Plot  Area</td>\n",
              "      <td>Ready To Move</td>\n",
              "      <td>HSR Layout</td>\n",
              "      <td>600.0</td>\n",
              "      <td>9.0</td>\n",
              "      <td>200.0</td>\n",
              "      <td>8</td>\n",
              "      <td>33333.333333</td>\n",
              "      <td>0.888889</td>\n",
              "    </tr>\n",
              "    <tr>\n",
              "      <th>...</th>\n",
              "      <td>...</td>\n",
              "      <td>...</td>\n",
              "      <td>...</td>\n",
              "      <td>...</td>\n",
              "      <td>...</td>\n",
              "      <td>...</td>\n",
              "      <td>...</td>\n",
              "      <td>...</td>\n",
              "      <td>...</td>\n",
              "    </tr>\n",
              "    <tr>\n",
              "      <th>13299</th>\n",
              "      <td>Super built-up  Area</td>\n",
              "      <td>18-Dec</td>\n",
              "      <td>Whitefield</td>\n",
              "      <td>2856.0</td>\n",
              "      <td>5.0</td>\n",
              "      <td>154.5</td>\n",
              "      <td>4</td>\n",
              "      <td>5409.663866</td>\n",
              "      <td>0.800000</td>\n",
              "    </tr>\n",
              "    <tr>\n",
              "      <th>13300</th>\n",
              "      <td>Plot  Area</td>\n",
              "      <td>Ready To Move</td>\n",
              "      <td>Hosakerehalli</td>\n",
              "      <td>1500.0</td>\n",
              "      <td>6.0</td>\n",
              "      <td>145.0</td>\n",
              "      <td>5</td>\n",
              "      <td>9666.666667</td>\n",
              "      <td>0.833333</td>\n",
              "    </tr>\n",
              "    <tr>\n",
              "      <th>13306</th>\n",
              "      <td>Plot  Area</td>\n",
              "      <td>Ready To Move</td>\n",
              "      <td>Others</td>\n",
              "      <td>1200.0</td>\n",
              "      <td>5.0</td>\n",
              "      <td>325.0</td>\n",
              "      <td>4</td>\n",
              "      <td>27083.333333</td>\n",
              "      <td>0.800000</td>\n",
              "    </tr>\n",
              "    <tr>\n",
              "      <th>13311</th>\n",
              "      <td>Plot  Area</td>\n",
              "      <td>Ready To Move</td>\n",
              "      <td>Ramamurthy Nagar</td>\n",
              "      <td>1500.0</td>\n",
              "      <td>9.0</td>\n",
              "      <td>250.0</td>\n",
              "      <td>7</td>\n",
              "      <td>16666.666667</td>\n",
              "      <td>0.777778</td>\n",
              "    </tr>\n",
              "    <tr>\n",
              "      <th>13316</th>\n",
              "      <td>Super built-up  Area</td>\n",
              "      <td>Ready To Move</td>\n",
              "      <td>Others</td>\n",
              "      <td>3600.0</td>\n",
              "      <td>5.0</td>\n",
              "      <td>400.0</td>\n",
              "      <td>4</td>\n",
              "      <td>11111.111111</td>\n",
              "      <td>0.800000</td>\n",
              "    </tr>\n",
              "  </tbody>\n",
              "</table>\n",
              "<p>906 rows × 9 columns</p>\n",
              "</div>"
            ],
            "text/plain": [
              "                  area_type   availability  ... price_per_sqft  bhk_bath_ratio\n",
              "1                Plot  Area  Ready To Move  ...    4615.384615        0.800000\n",
              "11               Plot  Area  Ready To Move  ...   10592.459605        0.800000\n",
              "18     Super built-up  Area  Ready To Move  ...   10469.314079        0.750000\n",
              "22               Plot  Area  Ready To Move  ...   13571.428571        0.800000\n",
              "45               Plot  Area  Ready To Move  ...   33333.333333        0.888889\n",
              "...                     ...            ...  ...            ...             ...\n",
              "13299  Super built-up  Area         18-Dec  ...    5409.663866        0.800000\n",
              "13300            Plot  Area  Ready To Move  ...    9666.666667        0.833333\n",
              "13306            Plot  Area  Ready To Move  ...   27083.333333        0.800000\n",
              "13311            Plot  Area  Ready To Move  ...   16666.666667        0.777778\n",
              "13316  Super built-up  Area  Ready To Move  ...   11111.111111        0.800000\n",
              "\n",
              "[906 rows x 9 columns]"
            ]
          },
          "metadata": {},
          "execution_count": 34
        }
      ]
    },
    {
      "cell_type": "code",
      "metadata": {
        "id": "NbVec9J3GNDs"
      },
      "source": [
        "house=house[house['bhk_bath_ratio']>=1]"
      ],
      "execution_count": 35,
      "outputs": []
    },
    {
      "cell_type": "code",
      "metadata": {
        "colab": {
          "base_uri": "https://localhost:8080/",
          "height": 294
        },
        "id": "oDj2av1uIaf5",
        "outputId": "28d4afa9-372c-4649-a54a-073651857db6"
      },
      "source": [
        "house.describe()"
      ],
      "execution_count": 36,
      "outputs": [
        {
          "output_type": "execute_result",
          "data": {
            "text/html": [
              "<div>\n",
              "<style scoped>\n",
              "    .dataframe tbody tr th:only-of-type {\n",
              "        vertical-align: middle;\n",
              "    }\n",
              "\n",
              "    .dataframe tbody tr th {\n",
              "        vertical-align: top;\n",
              "    }\n",
              "\n",
              "    .dataframe thead th {\n",
              "        text-align: right;\n",
              "    }\n",
              "</style>\n",
              "<table border=\"1\" class=\"dataframe\">\n",
              "  <thead>\n",
              "    <tr style=\"text-align: right;\">\n",
              "      <th></th>\n",
              "      <th>total_sqft</th>\n",
              "      <th>bath</th>\n",
              "      <th>price</th>\n",
              "      <th>BHK</th>\n",
              "      <th>price_per_sqft</th>\n",
              "      <th>bhk_bath_ratio</th>\n",
              "    </tr>\n",
              "  </thead>\n",
              "  <tbody>\n",
              "    <tr>\n",
              "      <th>count</th>\n",
              "      <td>12301.000000</td>\n",
              "      <td>12341.000000</td>\n",
              "      <td>12341.000000</td>\n",
              "      <td>12341.000000</td>\n",
              "      <td>1.230100e+04</td>\n",
              "      <td>12341.000000</td>\n",
              "    </tr>\n",
              "    <tr>\n",
              "      <th>mean</th>\n",
              "      <td>1479.006097</td>\n",
              "      <td>2.533506</td>\n",
              "      <td>100.730374</td>\n",
              "      <td>2.740297</td>\n",
              "      <td>7.765887e+03</td>\n",
              "      <td>1.097183</td>\n",
              "    </tr>\n",
              "    <tr>\n",
              "      <th>std</th>\n",
              "      <td>1179.415970</td>\n",
              "      <td>1.169348</td>\n",
              "      <td>120.876104</td>\n",
              "      <td>1.266533</td>\n",
              "      <td>1.105451e+05</td>\n",
              "      <td>0.224683</td>\n",
              "    </tr>\n",
              "    <tr>\n",
              "      <th>min</th>\n",
              "      <td>1.000000</td>\n",
              "      <td>1.000000</td>\n",
              "      <td>8.000000</td>\n",
              "      <td>1.000000</td>\n",
              "      <td>2.678298e+02</td>\n",
              "      <td>1.000000</td>\n",
              "    </tr>\n",
              "    <tr>\n",
              "      <th>25%</th>\n",
              "      <td>1096.000000</td>\n",
              "      <td>2.000000</td>\n",
              "      <td>48.750000</td>\n",
              "      <td>2.000000</td>\n",
              "      <td>4.203284e+03</td>\n",
              "      <td>1.000000</td>\n",
              "    </tr>\n",
              "    <tr>\n",
              "      <th>50%</th>\n",
              "      <td>1251.000000</td>\n",
              "      <td>2.000000</td>\n",
              "      <td>69.000000</td>\n",
              "      <td>3.000000</td>\n",
              "      <td>5.297297e+03</td>\n",
              "      <td>1.000000</td>\n",
              "    </tr>\n",
              "    <tr>\n",
              "      <th>75%</th>\n",
              "      <td>1600.000000</td>\n",
              "      <td>3.000000</td>\n",
              "      <td>109.000000</td>\n",
              "      <td>3.000000</td>\n",
              "      <td>7.000000e+03</td>\n",
              "      <td>1.000000</td>\n",
              "    </tr>\n",
              "    <tr>\n",
              "      <th>max</th>\n",
              "      <td>52272.000000</td>\n",
              "      <td>40.000000</td>\n",
              "      <td>2800.000000</td>\n",
              "      <td>43.000000</td>\n",
              "      <td>1.200000e+07</td>\n",
              "      <td>4.000000</td>\n",
              "    </tr>\n",
              "  </tbody>\n",
              "</table>\n",
              "</div>"
            ],
            "text/plain": [
              "         total_sqft          bath  ...  price_per_sqft  bhk_bath_ratio\n",
              "count  12301.000000  12341.000000  ...    1.230100e+04    12341.000000\n",
              "mean    1479.006097      2.533506  ...    7.765887e+03        1.097183\n",
              "std     1179.415970      1.169348  ...    1.105451e+05        0.224683\n",
              "min        1.000000      1.000000  ...    2.678298e+02        1.000000\n",
              "25%     1096.000000      2.000000  ...    4.203284e+03        1.000000\n",
              "50%     1251.000000      2.000000  ...    5.297297e+03        1.000000\n",
              "75%     1600.000000      3.000000  ...    7.000000e+03        1.000000\n",
              "max    52272.000000     40.000000  ...    1.200000e+07        4.000000\n",
              "\n",
              "[8 rows x 6 columns]"
            ]
          },
          "metadata": {},
          "execution_count": 36
        }
      ]
    },
    {
      "cell_type": "markdown",
      "metadata": {
        "id": "goAd1E1zOByq"
      },
      "source": [
        ">> **total_sqft_bhk ratio**"
      ]
    },
    {
      "cell_type": "code",
      "metadata": {
        "id": "Am0Delm4OI5u",
        "colab": {
          "base_uri": "https://localhost:8080/"
        },
        "outputId": "446115a3-ef7f-4e57-d5d2-cff3ffe247cf"
      },
      "source": [
        "house['total_sqft_bhk_ratio']=house['total_sqft']/house['BHK']"
      ],
      "execution_count": 37,
      "outputs": [
        {
          "output_type": "stream",
          "name": "stderr",
          "text": [
            "/usr/local/lib/python3.7/dist-packages/ipykernel_launcher.py:1: SettingWithCopyWarning: \n",
            "A value is trying to be set on a copy of a slice from a DataFrame.\n",
            "Try using .loc[row_indexer,col_indexer] = value instead\n",
            "\n",
            "See the caveats in the documentation: https://pandas.pydata.org/pandas-docs/stable/user_guide/indexing.html#returning-a-view-versus-a-copy\n",
            "  \"\"\"Entry point for launching an IPython kernel.\n"
          ]
        }
      ]
    },
    {
      "cell_type": "code",
      "metadata": {
        "colab": {
          "base_uri": "https://localhost:8080/",
          "height": 414
        },
        "id": "zJweqQQ6OvVW",
        "outputId": "b1931245-aa94-4ee0-9117-299119a11ba1"
      },
      "source": [
        "house[house['total_sqft_bhk_ratio']<=200]"
      ],
      "execution_count": 38,
      "outputs": [
        {
          "output_type": "execute_result",
          "data": {
            "text/html": [
              "<div>\n",
              "<style scoped>\n",
              "    .dataframe tbody tr th:only-of-type {\n",
              "        vertical-align: middle;\n",
              "    }\n",
              "\n",
              "    .dataframe tbody tr th {\n",
              "        vertical-align: top;\n",
              "    }\n",
              "\n",
              "    .dataframe thead th {\n",
              "        text-align: right;\n",
              "    }\n",
              "</style>\n",
              "<table border=\"1\" class=\"dataframe\">\n",
              "  <thead>\n",
              "    <tr style=\"text-align: right;\">\n",
              "      <th></th>\n",
              "      <th>area_type</th>\n",
              "      <th>availability</th>\n",
              "      <th>location</th>\n",
              "      <th>total_sqft</th>\n",
              "      <th>bath</th>\n",
              "      <th>price</th>\n",
              "      <th>BHK</th>\n",
              "      <th>price_per_sqft</th>\n",
              "      <th>bhk_bath_ratio</th>\n",
              "      <th>total_sqft_bhk_ratio</th>\n",
              "    </tr>\n",
              "  </thead>\n",
              "  <tbody>\n",
              "    <tr>\n",
              "      <th>9</th>\n",
              "      <td>Plot  Area</td>\n",
              "      <td>Ready To Move</td>\n",
              "      <td>Others</td>\n",
              "      <td>1020.0</td>\n",
              "      <td>6.0</td>\n",
              "      <td>370.0</td>\n",
              "      <td>6</td>\n",
              "      <td>36274.509804</td>\n",
              "      <td>1.000000</td>\n",
              "      <td>170.000000</td>\n",
              "    </tr>\n",
              "    <tr>\n",
              "      <th>68</th>\n",
              "      <td>Plot  Area</td>\n",
              "      <td>Ready To Move</td>\n",
              "      <td>Devarachikkanahalli</td>\n",
              "      <td>1350.0</td>\n",
              "      <td>7.0</td>\n",
              "      <td>85.0</td>\n",
              "      <td>8</td>\n",
              "      <td>6296.296296</td>\n",
              "      <td>1.142857</td>\n",
              "      <td>168.750000</td>\n",
              "    </tr>\n",
              "    <tr>\n",
              "      <th>70</th>\n",
              "      <td>Plot  Area</td>\n",
              "      <td>Ready To Move</td>\n",
              "      <td>Others</td>\n",
              "      <td>500.0</td>\n",
              "      <td>3.0</td>\n",
              "      <td>100.0</td>\n",
              "      <td>3</td>\n",
              "      <td>20000.000000</td>\n",
              "      <td>1.000000</td>\n",
              "      <td>166.666667</td>\n",
              "    </tr>\n",
              "    <tr>\n",
              "      <th>89</th>\n",
              "      <td>Plot  Area</td>\n",
              "      <td>Ready To Move</td>\n",
              "      <td>Rajaji Nagar</td>\n",
              "      <td>710.0</td>\n",
              "      <td>6.0</td>\n",
              "      <td>160.0</td>\n",
              "      <td>6</td>\n",
              "      <td>22535.211268</td>\n",
              "      <td>1.000000</td>\n",
              "      <td>118.333333</td>\n",
              "    </tr>\n",
              "    <tr>\n",
              "      <th>129</th>\n",
              "      <td>Plot  Area</td>\n",
              "      <td>Ready To Move</td>\n",
              "      <td>Vishwapriya Layout</td>\n",
              "      <td>950.0</td>\n",
              "      <td>7.0</td>\n",
              "      <td>115.0</td>\n",
              "      <td>7</td>\n",
              "      <td>12105.263158</td>\n",
              "      <td>1.000000</td>\n",
              "      <td>135.714286</td>\n",
              "    </tr>\n",
              "    <tr>\n",
              "      <th>...</th>\n",
              "      <td>...</td>\n",
              "      <td>...</td>\n",
              "      <td>...</td>\n",
              "      <td>...</td>\n",
              "      <td>...</td>\n",
              "      <td>...</td>\n",
              "      <td>...</td>\n",
              "      <td>...</td>\n",
              "      <td>...</td>\n",
              "      <td>...</td>\n",
              "    </tr>\n",
              "    <tr>\n",
              "      <th>13217</th>\n",
              "      <td>Plot  Area</td>\n",
              "      <td>Ready To Move</td>\n",
              "      <td>Others</td>\n",
              "      <td>1200.0</td>\n",
              "      <td>3.0</td>\n",
              "      <td>125.0</td>\n",
              "      <td>6</td>\n",
              "      <td>10416.666667</td>\n",
              "      <td>2.000000</td>\n",
              "      <td>200.000000</td>\n",
              "    </tr>\n",
              "    <tr>\n",
              "      <th>13221</th>\n",
              "      <td>Plot  Area</td>\n",
              "      <td>Ready To Move</td>\n",
              "      <td>Others</td>\n",
              "      <td>1178.0</td>\n",
              "      <td>9.0</td>\n",
              "      <td>75.0</td>\n",
              "      <td>9</td>\n",
              "      <td>6366.723260</td>\n",
              "      <td>1.000000</td>\n",
              "      <td>130.888889</td>\n",
              "    </tr>\n",
              "    <tr>\n",
              "      <th>13277</th>\n",
              "      <td>Plot  Area</td>\n",
              "      <td>Ready To Move</td>\n",
              "      <td>Others</td>\n",
              "      <td>1400.0</td>\n",
              "      <td>7.0</td>\n",
              "      <td>218.0</td>\n",
              "      <td>7</td>\n",
              "      <td>15571.428571</td>\n",
              "      <td>1.000000</td>\n",
              "      <td>200.000000</td>\n",
              "    </tr>\n",
              "    <tr>\n",
              "      <th>13279</th>\n",
              "      <td>Plot  Area</td>\n",
              "      <td>Ready To Move</td>\n",
              "      <td>Others</td>\n",
              "      <td>1200.0</td>\n",
              "      <td>5.0</td>\n",
              "      <td>130.0</td>\n",
              "      <td>6</td>\n",
              "      <td>10833.333333</td>\n",
              "      <td>1.200000</td>\n",
              "      <td>200.000000</td>\n",
              "    </tr>\n",
              "    <tr>\n",
              "      <th>13303</th>\n",
              "      <td>Plot  Area</td>\n",
              "      <td>Ready To Move</td>\n",
              "      <td>Vidyaranyapura</td>\n",
              "      <td>774.0</td>\n",
              "      <td>5.0</td>\n",
              "      <td>70.0</td>\n",
              "      <td>5</td>\n",
              "      <td>9043.927649</td>\n",
              "      <td>1.000000</td>\n",
              "      <td>154.800000</td>\n",
              "    </tr>\n",
              "  </tbody>\n",
              "</table>\n",
              "<p>393 rows × 10 columns</p>\n",
              "</div>"
            ],
            "text/plain": [
              "        area_type   availability  ... bhk_bath_ratio  total_sqft_bhk_ratio\n",
              "9      Plot  Area  Ready To Move  ...       1.000000            170.000000\n",
              "68     Plot  Area  Ready To Move  ...       1.142857            168.750000\n",
              "70     Plot  Area  Ready To Move  ...       1.000000            166.666667\n",
              "89     Plot  Area  Ready To Move  ...       1.000000            118.333333\n",
              "129    Plot  Area  Ready To Move  ...       1.000000            135.714286\n",
              "...           ...            ...  ...            ...                   ...\n",
              "13217  Plot  Area  Ready To Move  ...       2.000000            200.000000\n",
              "13221  Plot  Area  Ready To Move  ...       1.000000            130.888889\n",
              "13277  Plot  Area  Ready To Move  ...       1.000000            200.000000\n",
              "13279  Plot  Area  Ready To Move  ...       1.200000            200.000000\n",
              "13303  Plot  Area  Ready To Move  ...       1.000000            154.800000\n",
              "\n",
              "[393 rows x 10 columns]"
            ]
          },
          "metadata": {},
          "execution_count": 38
        }
      ]
    },
    {
      "cell_type": "code",
      "metadata": {
        "id": "yup-fP2wO3vw"
      },
      "source": [
        "house=house[house['total_sqft_bhk_ratio']>200]"
      ],
      "execution_count": 39,
      "outputs": []
    },
    {
      "cell_type": "code",
      "metadata": {
        "id": "sUwBABAxPNo9"
      },
      "source": [
        "house.drop(columns=['bhk_bath_ratio',\"total_sqft_bhk_ratio\"],inplace=True)"
      ],
      "execution_count": 40,
      "outputs": []
    },
    {
      "cell_type": "code",
      "metadata": {
        "colab": {
          "base_uri": "https://localhost:8080/",
          "height": 202
        },
        "id": "fe2k-gKKPwvY",
        "outputId": "5ebe4c58-8392-4f2a-eb06-f622cc95fd5b"
      },
      "source": [
        "house.head()"
      ],
      "execution_count": 41,
      "outputs": [
        {
          "output_type": "execute_result",
          "data": {
            "text/html": [
              "<div>\n",
              "<style scoped>\n",
              "    .dataframe tbody tr th:only-of-type {\n",
              "        vertical-align: middle;\n",
              "    }\n",
              "\n",
              "    .dataframe tbody tr th {\n",
              "        vertical-align: top;\n",
              "    }\n",
              "\n",
              "    .dataframe thead th {\n",
              "        text-align: right;\n",
              "    }\n",
              "</style>\n",
              "<table border=\"1\" class=\"dataframe\">\n",
              "  <thead>\n",
              "    <tr style=\"text-align: right;\">\n",
              "      <th></th>\n",
              "      <th>area_type</th>\n",
              "      <th>availability</th>\n",
              "      <th>location</th>\n",
              "      <th>total_sqft</th>\n",
              "      <th>bath</th>\n",
              "      <th>price</th>\n",
              "      <th>BHK</th>\n",
              "      <th>price_per_sqft</th>\n",
              "    </tr>\n",
              "  </thead>\n",
              "  <tbody>\n",
              "    <tr>\n",
              "      <th>0</th>\n",
              "      <td>Super built-up  Area</td>\n",
              "      <td>19-Dec</td>\n",
              "      <td>Electronic City Phase II</td>\n",
              "      <td>1056.0</td>\n",
              "      <td>2.0</td>\n",
              "      <td>39.07</td>\n",
              "      <td>2</td>\n",
              "      <td>3699.810606</td>\n",
              "    </tr>\n",
              "    <tr>\n",
              "      <th>2</th>\n",
              "      <td>Built-up  Area</td>\n",
              "      <td>Ready To Move</td>\n",
              "      <td>Uttarahalli</td>\n",
              "      <td>1440.0</td>\n",
              "      <td>2.0</td>\n",
              "      <td>62.00</td>\n",
              "      <td>3</td>\n",
              "      <td>4305.555556</td>\n",
              "    </tr>\n",
              "    <tr>\n",
              "      <th>3</th>\n",
              "      <td>Super built-up  Area</td>\n",
              "      <td>Ready To Move</td>\n",
              "      <td>Lingadheeranahalli</td>\n",
              "      <td>1521.0</td>\n",
              "      <td>3.0</td>\n",
              "      <td>95.00</td>\n",
              "      <td>3</td>\n",
              "      <td>6245.890861</td>\n",
              "    </tr>\n",
              "    <tr>\n",
              "      <th>4</th>\n",
              "      <td>Super built-up  Area</td>\n",
              "      <td>Ready To Move</td>\n",
              "      <td>Kothanur</td>\n",
              "      <td>1200.0</td>\n",
              "      <td>2.0</td>\n",
              "      <td>51.00</td>\n",
              "      <td>2</td>\n",
              "      <td>4250.000000</td>\n",
              "    </tr>\n",
              "    <tr>\n",
              "      <th>5</th>\n",
              "      <td>Super built-up  Area</td>\n",
              "      <td>Ready To Move</td>\n",
              "      <td>Whitefield</td>\n",
              "      <td>1170.0</td>\n",
              "      <td>2.0</td>\n",
              "      <td>38.00</td>\n",
              "      <td>2</td>\n",
              "      <td>3247.863248</td>\n",
              "    </tr>\n",
              "  </tbody>\n",
              "</table>\n",
              "</div>"
            ],
            "text/plain": [
              "              area_type   availability  ... BHK  price_per_sqft\n",
              "0  Super built-up  Area         19-Dec  ...   2     3699.810606\n",
              "2        Built-up  Area  Ready To Move  ...   3     4305.555556\n",
              "3  Super built-up  Area  Ready To Move  ...   3     6245.890861\n",
              "4  Super built-up  Area  Ready To Move  ...   2     4250.000000\n",
              "5  Super built-up  Area  Ready To Move  ...   2     3247.863248\n",
              "\n",
              "[5 rows x 8 columns]"
            ]
          },
          "metadata": {},
          "execution_count": 41
        }
      ]
    },
    {
      "cell_type": "markdown",
      "metadata": {
        "id": "5fmh7s7oTgCu"
      },
      "source": [
        ">> **bath**"
      ]
    },
    {
      "cell_type": "code",
      "metadata": {
        "colab": {
          "base_uri": "https://localhost:8080/",
          "height": 294
        },
        "id": "rdOiFEQ5P4oK",
        "outputId": "c929ca0d-956f-4cc0-953f-3b55524b4c83"
      },
      "source": [
        "house.describe()"
      ],
      "execution_count": 42,
      "outputs": [
        {
          "output_type": "execute_result",
          "data": {
            "text/html": [
              "<div>\n",
              "<style scoped>\n",
              "    .dataframe tbody tr th:only-of-type {\n",
              "        vertical-align: middle;\n",
              "    }\n",
              "\n",
              "    .dataframe tbody tr th {\n",
              "        vertical-align: top;\n",
              "    }\n",
              "\n",
              "    .dataframe thead th {\n",
              "        text-align: right;\n",
              "    }\n",
              "</style>\n",
              "<table border=\"1\" class=\"dataframe\">\n",
              "  <thead>\n",
              "    <tr style=\"text-align: right;\">\n",
              "      <th></th>\n",
              "      <th>total_sqft</th>\n",
              "      <th>bath</th>\n",
              "      <th>price</th>\n",
              "      <th>BHK</th>\n",
              "      <th>price_per_sqft</th>\n",
              "    </tr>\n",
              "  </thead>\n",
              "  <tbody>\n",
              "    <tr>\n",
              "      <th>count</th>\n",
              "      <td>11908.000000</td>\n",
              "      <td>11908.000000</td>\n",
              "      <td>11908.000000</td>\n",
              "      <td>11908.000000</td>\n",
              "      <td>11908.000000</td>\n",
              "    </tr>\n",
              "    <tr>\n",
              "      <th>mean</th>\n",
              "      <td>1498.849681</td>\n",
              "      <td>2.444491</td>\n",
              "      <td>99.712878</td>\n",
              "      <td>2.633188</td>\n",
              "      <td>6196.194033</td>\n",
              "    </tr>\n",
              "    <tr>\n",
              "      <th>std</th>\n",
              "      <td>1192.083535</td>\n",
              "      <td>0.955915</td>\n",
              "      <td>122.059032</td>\n",
              "      <td>1.016442</td>\n",
              "      <td>4031.582016</td>\n",
              "    </tr>\n",
              "    <tr>\n",
              "      <th>min</th>\n",
              "      <td>284.000000</td>\n",
              "      <td>1.000000</td>\n",
              "      <td>8.000000</td>\n",
              "      <td>1.000000</td>\n",
              "      <td>267.829813</td>\n",
              "    </tr>\n",
              "    <tr>\n",
              "      <th>25%</th>\n",
              "      <td>1100.000000</td>\n",
              "      <td>2.000000</td>\n",
              "      <td>48.000000</td>\n",
              "      <td>2.000000</td>\n",
              "      <td>4181.818182</td>\n",
              "    </tr>\n",
              "    <tr>\n",
              "      <th>50%</th>\n",
              "      <td>1262.000000</td>\n",
              "      <td>2.000000</td>\n",
              "      <td>67.755000</td>\n",
              "      <td>2.000000</td>\n",
              "      <td>5217.391304</td>\n",
              "    </tr>\n",
              "    <tr>\n",
              "      <th>75%</th>\n",
              "      <td>1608.000000</td>\n",
              "      <td>3.000000</td>\n",
              "      <td>105.000000</td>\n",
              "      <td>3.000000</td>\n",
              "      <td>6770.833333</td>\n",
              "    </tr>\n",
              "    <tr>\n",
              "      <th>max</th>\n",
              "      <td>52272.000000</td>\n",
              "      <td>27.000000</td>\n",
              "      <td>2800.000000</td>\n",
              "      <td>27.000000</td>\n",
              "      <td>176470.588235</td>\n",
              "    </tr>\n",
              "  </tbody>\n",
              "</table>\n",
              "</div>"
            ],
            "text/plain": [
              "         total_sqft          bath         price           BHK  price_per_sqft\n",
              "count  11908.000000  11908.000000  11908.000000  11908.000000    11908.000000\n",
              "mean    1498.849681      2.444491     99.712878      2.633188     6196.194033\n",
              "std     1192.083535      0.955915    122.059032      1.016442     4031.582016\n",
              "min      284.000000      1.000000      8.000000      1.000000      267.829813\n",
              "25%     1100.000000      2.000000     48.000000      2.000000     4181.818182\n",
              "50%     1262.000000      2.000000     67.755000      2.000000     5217.391304\n",
              "75%     1608.000000      3.000000    105.000000      3.000000     6770.833333\n",
              "max    52272.000000     27.000000   2800.000000     27.000000   176470.588235"
            ]
          },
          "metadata": {},
          "execution_count": 42
        }
      ]
    },
    {
      "cell_type": "code",
      "metadata": {
        "colab": {
          "base_uri": "https://localhost:8080/",
          "height": 141
        },
        "id": "9-0EdnhzRmc3",
        "outputId": "548e5734-6596-479b-f25e-7f4310c62dfd"
      },
      "source": [
        "house[house['bath']>10]"
      ],
      "execution_count": 43,
      "outputs": [
        {
          "output_type": "execute_result",
          "data": {
            "text/html": [
              "<div>\n",
              "<style scoped>\n",
              "    .dataframe tbody tr th:only-of-type {\n",
              "        vertical-align: middle;\n",
              "    }\n",
              "\n",
              "    .dataframe tbody tr th {\n",
              "        vertical-align: top;\n",
              "    }\n",
              "\n",
              "    .dataframe thead th {\n",
              "        text-align: right;\n",
              "    }\n",
              "</style>\n",
              "<table border=\"1\" class=\"dataframe\">\n",
              "  <thead>\n",
              "    <tr style=\"text-align: right;\">\n",
              "      <th></th>\n",
              "      <th>area_type</th>\n",
              "      <th>availability</th>\n",
              "      <th>location</th>\n",
              "      <th>total_sqft</th>\n",
              "      <th>bath</th>\n",
              "      <th>price</th>\n",
              "      <th>BHK</th>\n",
              "      <th>price_per_sqft</th>\n",
              "    </tr>\n",
              "  </thead>\n",
              "  <tbody>\n",
              "    <tr>\n",
              "      <th>1718</th>\n",
              "      <td>Super built-up  Area</td>\n",
              "      <td>Ready To Move</td>\n",
              "      <td>Others</td>\n",
              "      <td>8000.0</td>\n",
              "      <td>27.0</td>\n",
              "      <td>230.0</td>\n",
              "      <td>27</td>\n",
              "      <td>2875.000000</td>\n",
              "    </tr>\n",
              "    <tr>\n",
              "      <th>3609</th>\n",
              "      <td>Super built-up  Area</td>\n",
              "      <td>Ready To Move</td>\n",
              "      <td>Others</td>\n",
              "      <td>10000.0</td>\n",
              "      <td>16.0</td>\n",
              "      <td>550.0</td>\n",
              "      <td>16</td>\n",
              "      <td>5500.000000</td>\n",
              "    </tr>\n",
              "    <tr>\n",
              "      <th>9935</th>\n",
              "      <td>Super built-up  Area</td>\n",
              "      <td>Ready To Move</td>\n",
              "      <td>Others</td>\n",
              "      <td>5425.0</td>\n",
              "      <td>13.0</td>\n",
              "      <td>275.0</td>\n",
              "      <td>13</td>\n",
              "      <td>5069.124424</td>\n",
              "    </tr>\n",
              "  </tbody>\n",
              "</table>\n",
              "</div>"
            ],
            "text/plain": [
              "                 area_type   availability location  ...  price  BHK  price_per_sqft\n",
              "1718  Super built-up  Area  Ready To Move   Others  ...  230.0   27     2875.000000\n",
              "3609  Super built-up  Area  Ready To Move   Others  ...  550.0   16     5500.000000\n",
              "9935  Super built-up  Area  Ready To Move   Others  ...  275.0   13     5069.124424\n",
              "\n",
              "[3 rows x 8 columns]"
            ]
          },
          "metadata": {},
          "execution_count": 43
        }
      ]
    },
    {
      "cell_type": "code",
      "metadata": {
        "id": "PaJ6QwrWP8wI"
      },
      "source": [
        "house=house[house['bath']<=10]"
      ],
      "execution_count": 44,
      "outputs": []
    },
    {
      "cell_type": "markdown",
      "metadata": {
        "id": "20rRTDjOTm0g"
      },
      "source": [
        ">> **BHK**"
      ]
    },
    {
      "cell_type": "code",
      "metadata": {
        "colab": {
          "base_uri": "https://localhost:8080/",
          "height": 294
        },
        "id": "HGZQsAMiRR36",
        "outputId": "de3e2dd5-1b99-4de0-c15c-07b1b007e1e6"
      },
      "source": [
        "house.describe()"
      ],
      "execution_count": 45,
      "outputs": [
        {
          "output_type": "execute_result",
          "data": {
            "text/html": [
              "<div>\n",
              "<style scoped>\n",
              "    .dataframe tbody tr th:only-of-type {\n",
              "        vertical-align: middle;\n",
              "    }\n",
              "\n",
              "    .dataframe tbody tr th {\n",
              "        vertical-align: top;\n",
              "    }\n",
              "\n",
              "    .dataframe thead th {\n",
              "        text-align: right;\n",
              "    }\n",
              "</style>\n",
              "<table border=\"1\" class=\"dataframe\">\n",
              "  <thead>\n",
              "    <tr style=\"text-align: right;\">\n",
              "      <th></th>\n",
              "      <th>total_sqft</th>\n",
              "      <th>bath</th>\n",
              "      <th>price</th>\n",
              "      <th>BHK</th>\n",
              "      <th>price_per_sqft</th>\n",
              "    </tr>\n",
              "  </thead>\n",
              "  <tbody>\n",
              "    <tr>\n",
              "      <th>count</th>\n",
              "      <td>11905.000000</td>\n",
              "      <td>11905.000000</td>\n",
              "      <td>11905.000000</td>\n",
              "      <td>11905.000000</td>\n",
              "      <td>11905.000000</td>\n",
              "    </tr>\n",
              "    <tr>\n",
              "      <th>mean</th>\n",
              "      <td>1497.259723</td>\n",
              "      <td>2.440403</td>\n",
              "      <td>99.649387</td>\n",
              "      <td>2.629147</td>\n",
              "      <td>6196.626159</td>\n",
              "    </tr>\n",
              "    <tr>\n",
              "      <th>std</th>\n",
              "      <td>1187.645708</td>\n",
              "      <td>0.915718</td>\n",
              "      <td>121.988188</td>\n",
              "      <td>0.979532</td>\n",
              "      <td>4031.956785</td>\n",
              "    </tr>\n",
              "    <tr>\n",
              "      <th>min</th>\n",
              "      <td>284.000000</td>\n",
              "      <td>1.000000</td>\n",
              "      <td>8.000000</td>\n",
              "      <td>1.000000</td>\n",
              "      <td>267.829813</td>\n",
              "    </tr>\n",
              "    <tr>\n",
              "      <th>25%</th>\n",
              "      <td>1100.000000</td>\n",
              "      <td>2.000000</td>\n",
              "      <td>48.000000</td>\n",
              "      <td>2.000000</td>\n",
              "      <td>4181.818182</td>\n",
              "    </tr>\n",
              "    <tr>\n",
              "      <th>50%</th>\n",
              "      <td>1262.000000</td>\n",
              "      <td>2.000000</td>\n",
              "      <td>67.750000</td>\n",
              "      <td>2.000000</td>\n",
              "      <td>5217.391304</td>\n",
              "    </tr>\n",
              "    <tr>\n",
              "      <th>75%</th>\n",
              "      <td>1607.000000</td>\n",
              "      <td>3.000000</td>\n",
              "      <td>105.000000</td>\n",
              "      <td>3.000000</td>\n",
              "      <td>6770.833333</td>\n",
              "    </tr>\n",
              "    <tr>\n",
              "      <th>max</th>\n",
              "      <td>52272.000000</td>\n",
              "      <td>10.000000</td>\n",
              "      <td>2800.000000</td>\n",
              "      <td>11.000000</td>\n",
              "      <td>176470.588235</td>\n",
              "    </tr>\n",
              "  </tbody>\n",
              "</table>\n",
              "</div>"
            ],
            "text/plain": [
              "         total_sqft          bath         price           BHK  price_per_sqft\n",
              "count  11905.000000  11905.000000  11905.000000  11905.000000    11905.000000\n",
              "mean    1497.259723      2.440403     99.649387      2.629147     6196.626159\n",
              "std     1187.645708      0.915718    121.988188      0.979532     4031.956785\n",
              "min      284.000000      1.000000      8.000000      1.000000      267.829813\n",
              "25%     1100.000000      2.000000     48.000000      2.000000     4181.818182\n",
              "50%     1262.000000      2.000000     67.750000      2.000000     5217.391304\n",
              "75%     1607.000000      3.000000    105.000000      3.000000     6770.833333\n",
              "max    52272.000000     10.000000   2800.000000     11.000000   176470.588235"
            ]
          },
          "metadata": {},
          "execution_count": 45
        }
      ]
    },
    {
      "cell_type": "code",
      "metadata": {
        "colab": {
          "base_uri": "https://localhost:8080/",
          "height": 202
        },
        "id": "Jy7gIMxKR_C9",
        "outputId": "a00f0e62-e2aa-4fad-a7e9-cb513b6ccdaf"
      },
      "source": [
        "house[house['BHK']>9]"
      ],
      "execution_count": 46,
      "outputs": [
        {
          "output_type": "execute_result",
          "data": {
            "text/html": [
              "<div>\n",
              "<style scoped>\n",
              "    .dataframe tbody tr th:only-of-type {\n",
              "        vertical-align: middle;\n",
              "    }\n",
              "\n",
              "    .dataframe tbody tr th {\n",
              "        vertical-align: top;\n",
              "    }\n",
              "\n",
              "    .dataframe thead th {\n",
              "        text-align: right;\n",
              "    }\n",
              "</style>\n",
              "<table border=\"1\" class=\"dataframe\">\n",
              "  <thead>\n",
              "    <tr style=\"text-align: right;\">\n",
              "      <th></th>\n",
              "      <th>area_type</th>\n",
              "      <th>availability</th>\n",
              "      <th>location</th>\n",
              "      <th>total_sqft</th>\n",
              "      <th>bath</th>\n",
              "      <th>price</th>\n",
              "      <th>BHK</th>\n",
              "      <th>price_per_sqft</th>\n",
              "    </tr>\n",
              "  </thead>\n",
              "  <tbody>\n",
              "    <tr>\n",
              "      <th>459</th>\n",
              "      <td>Super built-up  Area</td>\n",
              "      <td>Ready To Move</td>\n",
              "      <td>Others</td>\n",
              "      <td>5000.0</td>\n",
              "      <td>9.0</td>\n",
              "      <td>360.0</td>\n",
              "      <td>11</td>\n",
              "      <td>7200.000000</td>\n",
              "    </tr>\n",
              "    <tr>\n",
              "      <th>4691</th>\n",
              "      <td>Plot  Area</td>\n",
              "      <td>Ready To Move</td>\n",
              "      <td>Others</td>\n",
              "      <td>2416.0</td>\n",
              "      <td>10.0</td>\n",
              "      <td>600.0</td>\n",
              "      <td>10</td>\n",
              "      <td>24834.437086</td>\n",
              "    </tr>\n",
              "    <tr>\n",
              "      <th>9769</th>\n",
              "      <td>Plot  Area</td>\n",
              "      <td>Ready To Move</td>\n",
              "      <td>Others</td>\n",
              "      <td>3300.0</td>\n",
              "      <td>9.0</td>\n",
              "      <td>450.0</td>\n",
              "      <td>10</td>\n",
              "      <td>13636.363636</td>\n",
              "    </tr>\n",
              "    <tr>\n",
              "      <th>11142</th>\n",
              "      <td>Built-up  Area</td>\n",
              "      <td>Ready To Move</td>\n",
              "      <td>Munnekollal</td>\n",
              "      <td>7200.0</td>\n",
              "      <td>10.0</td>\n",
              "      <td>200.0</td>\n",
              "      <td>10</td>\n",
              "      <td>2777.777778</td>\n",
              "    </tr>\n",
              "    <tr>\n",
              "      <th>11327</th>\n",
              "      <td>Plot  Area</td>\n",
              "      <td>Ready To Move</td>\n",
              "      <td>Kogilu</td>\n",
              "      <td>3280.0</td>\n",
              "      <td>9.0</td>\n",
              "      <td>450.0</td>\n",
              "      <td>10</td>\n",
              "      <td>13719.512195</td>\n",
              "    </tr>\n",
              "  </tbody>\n",
              "</table>\n",
              "</div>"
            ],
            "text/plain": [
              "                  area_type   availability  ... BHK  price_per_sqft\n",
              "459    Super built-up  Area  Ready To Move  ...  11     7200.000000\n",
              "4691             Plot  Area  Ready To Move  ...  10    24834.437086\n",
              "9769             Plot  Area  Ready To Move  ...  10    13636.363636\n",
              "11142        Built-up  Area  Ready To Move  ...  10     2777.777778\n",
              "11327            Plot  Area  Ready To Move  ...  10    13719.512195\n",
              "\n",
              "[5 rows x 8 columns]"
            ]
          },
          "metadata": {},
          "execution_count": 46
        }
      ]
    },
    {
      "cell_type": "code",
      "metadata": {
        "id": "9sf5p-GQSNyM"
      },
      "source": [
        "house=house[house['BHK']<=9]"
      ],
      "execution_count": 47,
      "outputs": []
    },
    {
      "cell_type": "markdown",
      "metadata": {
        "id": "u_auobH0TtQa"
      },
      "source": [
        ">> **total_sqft_bhk ratio**"
      ]
    },
    {
      "cell_type": "code",
      "metadata": {
        "colab": {
          "base_uri": "https://localhost:8080/",
          "height": 294
        },
        "id": "XL7sbhLxTEpy",
        "outputId": "46bdd75d-537e-46de-8e04-502c598f11bf"
      },
      "source": [
        "house.describe()"
      ],
      "execution_count": 48,
      "outputs": [
        {
          "output_type": "execute_result",
          "data": {
            "text/html": [
              "<div>\n",
              "<style scoped>\n",
              "    .dataframe tbody tr th:only-of-type {\n",
              "        vertical-align: middle;\n",
              "    }\n",
              "\n",
              "    .dataframe tbody tr th {\n",
              "        vertical-align: top;\n",
              "    }\n",
              "\n",
              "    .dataframe thead th {\n",
              "        text-align: right;\n",
              "    }\n",
              "</style>\n",
              "<table border=\"1\" class=\"dataframe\">\n",
              "  <thead>\n",
              "    <tr style=\"text-align: right;\">\n",
              "      <th></th>\n",
              "      <th>total_sqft</th>\n",
              "      <th>bath</th>\n",
              "      <th>price</th>\n",
              "      <th>BHK</th>\n",
              "      <th>price_per_sqft</th>\n",
              "    </tr>\n",
              "  </thead>\n",
              "  <tbody>\n",
              "    <tr>\n",
              "      <th>count</th>\n",
              "      <td>11900.000000</td>\n",
              "      <td>11900.000000</td>\n",
              "      <td>11900.000000</td>\n",
              "      <td>11900.000000</td>\n",
              "      <td>11900.000000</td>\n",
              "    </tr>\n",
              "    <tr>\n",
              "      <th>mean</th>\n",
              "      <td>1496.107647</td>\n",
              "      <td>2.437479</td>\n",
              "      <td>99.518147</td>\n",
              "      <td>2.625966</td>\n",
              "      <td>6194.005574</td>\n",
              "    </tr>\n",
              "    <tr>\n",
              "      <th>std</th>\n",
              "      <td>1186.051570</td>\n",
              "      <td>0.904671</td>\n",
              "      <td>121.816010</td>\n",
              "      <td>0.967328</td>\n",
              "      <td>4027.881824</td>\n",
              "    </tr>\n",
              "    <tr>\n",
              "      <th>min</th>\n",
              "      <td>284.000000</td>\n",
              "      <td>1.000000</td>\n",
              "      <td>8.000000</td>\n",
              "      <td>1.000000</td>\n",
              "      <td>267.829813</td>\n",
              "    </tr>\n",
              "    <tr>\n",
              "      <th>25%</th>\n",
              "      <td>1100.000000</td>\n",
              "      <td>2.000000</td>\n",
              "      <td>48.000000</td>\n",
              "      <td>2.000000</td>\n",
              "      <td>4181.818182</td>\n",
              "    </tr>\n",
              "    <tr>\n",
              "      <th>50%</th>\n",
              "      <td>1262.000000</td>\n",
              "      <td>2.000000</td>\n",
              "      <td>67.600000</td>\n",
              "      <td>2.000000</td>\n",
              "      <td>5217.391304</td>\n",
              "    </tr>\n",
              "    <tr>\n",
              "      <th>75%</th>\n",
              "      <td>1605.000000</td>\n",
              "      <td>3.000000</td>\n",
              "      <td>105.000000</td>\n",
              "      <td>3.000000</td>\n",
              "      <td>6769.425450</td>\n",
              "    </tr>\n",
              "    <tr>\n",
              "      <th>max</th>\n",
              "      <td>52272.000000</td>\n",
              "      <td>9.000000</td>\n",
              "      <td>2800.000000</td>\n",
              "      <td>9.000000</td>\n",
              "      <td>176470.588235</td>\n",
              "    </tr>\n",
              "  </tbody>\n",
              "</table>\n",
              "</div>"
            ],
            "text/plain": [
              "         total_sqft          bath         price           BHK  price_per_sqft\n",
              "count  11900.000000  11900.000000  11900.000000  11900.000000    11900.000000\n",
              "mean    1496.107647      2.437479     99.518147      2.625966     6194.005574\n",
              "std     1186.051570      0.904671    121.816010      0.967328     4027.881824\n",
              "min      284.000000      1.000000      8.000000      1.000000      267.829813\n",
              "25%     1100.000000      2.000000     48.000000      2.000000     4181.818182\n",
              "50%     1262.000000      2.000000     67.600000      2.000000     5217.391304\n",
              "75%     1605.000000      3.000000    105.000000      3.000000     6769.425450\n",
              "max    52272.000000      9.000000   2800.000000      9.000000   176470.588235"
            ]
          },
          "metadata": {},
          "execution_count": 48
        }
      ]
    },
    {
      "cell_type": "markdown",
      "metadata": {
        "id": "6NoRuBF0T8lf"
      },
      "source": [
        ">> **total_sqft**"
      ]
    },
    {
      "cell_type": "code",
      "metadata": {
        "colab": {
          "base_uri": "https://localhost:8080/",
          "height": 876
        },
        "id": "VQVD1oMxTTfS",
        "outputId": "bcf85236-efd5-4259-93ef-9d95649775d6"
      },
      "source": [
        "house[house['total_sqft']>8000]"
      ],
      "execution_count": 49,
      "outputs": [
        {
          "output_type": "execute_result",
          "data": {
            "text/html": [
              "<div>\n",
              "<style scoped>\n",
              "    .dataframe tbody tr th:only-of-type {\n",
              "        vertical-align: middle;\n",
              "    }\n",
              "\n",
              "    .dataframe tbody tr th {\n",
              "        vertical-align: top;\n",
              "    }\n",
              "\n",
              "    .dataframe thead th {\n",
              "        text-align: right;\n",
              "    }\n",
              "</style>\n",
              "<table border=\"1\" class=\"dataframe\">\n",
              "  <thead>\n",
              "    <tr style=\"text-align: right;\">\n",
              "      <th></th>\n",
              "      <th>area_type</th>\n",
              "      <th>availability</th>\n",
              "      <th>location</th>\n",
              "      <th>total_sqft</th>\n",
              "      <th>bath</th>\n",
              "      <th>price</th>\n",
              "      <th>BHK</th>\n",
              "      <th>price_per_sqft</th>\n",
              "    </tr>\n",
              "  </thead>\n",
              "  <tbody>\n",
              "    <tr>\n",
              "      <th>408</th>\n",
              "      <td>Super built-up  Area</td>\n",
              "      <td>availability_count_30_40</td>\n",
              "      <td>Rajaji Nagar</td>\n",
              "      <td>12000.0</td>\n",
              "      <td>6.0</td>\n",
              "      <td>2200.0</td>\n",
              "      <td>7</td>\n",
              "      <td>18333.333333</td>\n",
              "    </tr>\n",
              "    <tr>\n",
              "      <th>440</th>\n",
              "      <td>Plot  Area</td>\n",
              "      <td>Ready To Move</td>\n",
              "      <td>Whitefield</td>\n",
              "      <td>11890.0</td>\n",
              "      <td>4.0</td>\n",
              "      <td>700.0</td>\n",
              "      <td>4</td>\n",
              "      <td>5887.300252</td>\n",
              "    </tr>\n",
              "    <tr>\n",
              "      <th>514</th>\n",
              "      <td>Plot  Area</td>\n",
              "      <td>Ready To Move</td>\n",
              "      <td>Banashankari Stage III</td>\n",
              "      <td>8500.0</td>\n",
              "      <td>4.0</td>\n",
              "      <td>145.0</td>\n",
              "      <td>4</td>\n",
              "      <td>1705.882353</td>\n",
              "    </tr>\n",
              "    <tr>\n",
              "      <th>605</th>\n",
              "      <td>Super built-up  Area</td>\n",
              "      <td>availability_count_30_40</td>\n",
              "      <td>Malleshwaram</td>\n",
              "      <td>12000.0</td>\n",
              "      <td>7.0</td>\n",
              "      <td>2200.0</td>\n",
              "      <td>7</td>\n",
              "      <td>18333.333333</td>\n",
              "    </tr>\n",
              "    <tr>\n",
              "      <th>674</th>\n",
              "      <td>Built-up  Area</td>\n",
              "      <td>Ready To Move</td>\n",
              "      <td>Yelahanka</td>\n",
              "      <td>35000.0</td>\n",
              "      <td>3.0</td>\n",
              "      <td>130.0</td>\n",
              "      <td>3</td>\n",
              "      <td>371.428571</td>\n",
              "    </tr>\n",
              "    <tr>\n",
              "      <th>810</th>\n",
              "      <td>Plot  Area</td>\n",
              "      <td>18-Apr</td>\n",
              "      <td>Others</td>\n",
              "      <td>10961.0</td>\n",
              "      <td>4.0</td>\n",
              "      <td>80.0</td>\n",
              "      <td>4</td>\n",
              "      <td>729.860414</td>\n",
              "    </tr>\n",
              "    <tr>\n",
              "      <th>1234</th>\n",
              "      <td>Plot  Area</td>\n",
              "      <td>Ready To Move</td>\n",
              "      <td>Others</td>\n",
              "      <td>14000.0</td>\n",
              "      <td>3.0</td>\n",
              "      <td>800.0</td>\n",
              "      <td>4</td>\n",
              "      <td>5714.285714</td>\n",
              "    </tr>\n",
              "    <tr>\n",
              "      <th>1894</th>\n",
              "      <td>Plot  Area</td>\n",
              "      <td>Ready To Move</td>\n",
              "      <td>Others</td>\n",
              "      <td>52272.0</td>\n",
              "      <td>2.0</td>\n",
              "      <td>140.0</td>\n",
              "      <td>3</td>\n",
              "      <td>267.829813</td>\n",
              "    </tr>\n",
              "    <tr>\n",
              "      <th>2108</th>\n",
              "      <td>Plot  Area</td>\n",
              "      <td>Ready To Move</td>\n",
              "      <td>Kothanur</td>\n",
              "      <td>9600.0</td>\n",
              "      <td>5.0</td>\n",
              "      <td>550.0</td>\n",
              "      <td>5</td>\n",
              "      <td>5729.166667</td>\n",
              "    </tr>\n",
              "    <tr>\n",
              "      <th>2623</th>\n",
              "      <td>Plot  Area</td>\n",
              "      <td>18-Jul</td>\n",
              "      <td>Others</td>\n",
              "      <td>30000.0</td>\n",
              "      <td>4.0</td>\n",
              "      <td>2100.0</td>\n",
              "      <td>4</td>\n",
              "      <td>7000.000000</td>\n",
              "    </tr>\n",
              "    <tr>\n",
              "      <th>3180</th>\n",
              "      <td>Super built-up  Area</td>\n",
              "      <td>Ready To Move</td>\n",
              "      <td>Others</td>\n",
              "      <td>8321.0</td>\n",
              "      <td>5.0</td>\n",
              "      <td>2700.0</td>\n",
              "      <td>5</td>\n",
              "      <td>32448.023074</td>\n",
              "    </tr>\n",
              "    <tr>\n",
              "      <th>4308</th>\n",
              "      <td>Plot  Area</td>\n",
              "      <td>Ready To Move</td>\n",
              "      <td>Bannerghatta Road</td>\n",
              "      <td>10000.0</td>\n",
              "      <td>4.0</td>\n",
              "      <td>450.0</td>\n",
              "      <td>4</td>\n",
              "      <td>4500.000000</td>\n",
              "    </tr>\n",
              "    <tr>\n",
              "      <th>5393</th>\n",
              "      <td>Super built-up  Area</td>\n",
              "      <td>Ready To Move</td>\n",
              "      <td>Others</td>\n",
              "      <td>42000.0</td>\n",
              "      <td>8.0</td>\n",
              "      <td>175.0</td>\n",
              "      <td>9</td>\n",
              "      <td>416.666667</td>\n",
              "    </tr>\n",
              "    <tr>\n",
              "      <th>5469</th>\n",
              "      <td>Super built-up  Area</td>\n",
              "      <td>Ready To Move</td>\n",
              "      <td>Ulsoor</td>\n",
              "      <td>36000.0</td>\n",
              "      <td>4.0</td>\n",
              "      <td>450.0</td>\n",
              "      <td>4</td>\n",
              "      <td>1250.000000</td>\n",
              "    </tr>\n",
              "    <tr>\n",
              "      <th>7242</th>\n",
              "      <td>Plot  Area</td>\n",
              "      <td>Ready To Move</td>\n",
              "      <td>Yelahanka</td>\n",
              "      <td>26136.0</td>\n",
              "      <td>1.0</td>\n",
              "      <td>150.0</td>\n",
              "      <td>1</td>\n",
              "      <td>573.921028</td>\n",
              "    </tr>\n",
              "    <tr>\n",
              "      <th>7855</th>\n",
              "      <td>Plot  Area</td>\n",
              "      <td>Ready To Move</td>\n",
              "      <td>Whitefield</td>\n",
              "      <td>10200.0</td>\n",
              "      <td>4.0</td>\n",
              "      <td>1250.0</td>\n",
              "      <td>4</td>\n",
              "      <td>12254.901961</td>\n",
              "    </tr>\n",
              "    <tr>\n",
              "      <th>7947</th>\n",
              "      <td>Plot  Area</td>\n",
              "      <td>Ready To Move</td>\n",
              "      <td>JP Nagar</td>\n",
              "      <td>20000.0</td>\n",
              "      <td>3.0</td>\n",
              "      <td>175.0</td>\n",
              "      <td>3</td>\n",
              "      <td>875.000000</td>\n",
              "    </tr>\n",
              "    <tr>\n",
              "      <th>8165</th>\n",
              "      <td>Super built-up  Area</td>\n",
              "      <td>18-May</td>\n",
              "      <td>Others</td>\n",
              "      <td>11000.0</td>\n",
              "      <td>4.0</td>\n",
              "      <td>1600.0</td>\n",
              "      <td>4</td>\n",
              "      <td>14545.454545</td>\n",
              "    </tr>\n",
              "    <tr>\n",
              "      <th>9240</th>\n",
              "      <td>Plot  Area</td>\n",
              "      <td>Ready To Move</td>\n",
              "      <td>Others</td>\n",
              "      <td>10961.0</td>\n",
              "      <td>4.0</td>\n",
              "      <td>80.0</td>\n",
              "      <td>4</td>\n",
              "      <td>729.860414</td>\n",
              "    </tr>\n",
              "    <tr>\n",
              "      <th>9546</th>\n",
              "      <td>Plot  Area</td>\n",
              "      <td>Ready To Move</td>\n",
              "      <td>Others</td>\n",
              "      <td>10000.0</td>\n",
              "      <td>5.0</td>\n",
              "      <td>1950.0</td>\n",
              "      <td>5</td>\n",
              "      <td>19500.000000</td>\n",
              "    </tr>\n",
              "    <tr>\n",
              "      <th>10075</th>\n",
              "      <td>Plot  Area</td>\n",
              "      <td>Ready To Move</td>\n",
              "      <td>Others</td>\n",
              "      <td>10030.0</td>\n",
              "      <td>1.0</td>\n",
              "      <td>150.0</td>\n",
              "      <td>1</td>\n",
              "      <td>1495.513460</td>\n",
              "    </tr>\n",
              "    <tr>\n",
              "      <th>10304</th>\n",
              "      <td>Plot  Area</td>\n",
              "      <td>Ready To Move</td>\n",
              "      <td>Others</td>\n",
              "      <td>10624.0</td>\n",
              "      <td>4.0</td>\n",
              "      <td>2340.0</td>\n",
              "      <td>4</td>\n",
              "      <td>22025.602410</td>\n",
              "    </tr>\n",
              "    <tr>\n",
              "      <th>10749</th>\n",
              "      <td>Plot  Area</td>\n",
              "      <td>Ready To Move</td>\n",
              "      <td>Sarjapur  Road</td>\n",
              "      <td>10000.0</td>\n",
              "      <td>4.0</td>\n",
              "      <td>975.0</td>\n",
              "      <td>5</td>\n",
              "      <td>9750.000000</td>\n",
              "    </tr>\n",
              "    <tr>\n",
              "      <th>11856</th>\n",
              "      <td>Super built-up  Area</td>\n",
              "      <td>Ready To Move</td>\n",
              "      <td>Kalyan nagar</td>\n",
              "      <td>8840.0</td>\n",
              "      <td>2.0</td>\n",
              "      <td>300.0</td>\n",
              "      <td>2</td>\n",
              "      <td>3393.665158</td>\n",
              "    </tr>\n",
              "    <tr>\n",
              "      <th>12470</th>\n",
              "      <td>Super built-up  Area</td>\n",
              "      <td>Ready To Move</td>\n",
              "      <td>Others</td>\n",
              "      <td>16335.0</td>\n",
              "      <td>4.0</td>\n",
              "      <td>149.0</td>\n",
              "      <td>4</td>\n",
              "      <td>912.151821</td>\n",
              "    </tr>\n",
              "    <tr>\n",
              "      <th>12987</th>\n",
              "      <td>Plot  Area</td>\n",
              "      <td>Ready To Move</td>\n",
              "      <td>Others</td>\n",
              "      <td>30400.0</td>\n",
              "      <td>4.0</td>\n",
              "      <td>1824.0</td>\n",
              "      <td>6</td>\n",
              "      <td>6000.000000</td>\n",
              "    </tr>\n",
              "    <tr>\n",
              "      <th>13197</th>\n",
              "      <td>Plot  Area</td>\n",
              "      <td>Ready To Move</td>\n",
              "      <td>Others</td>\n",
              "      <td>9200.0</td>\n",
              "      <td>4.0</td>\n",
              "      <td>2600.0</td>\n",
              "      <td>4</td>\n",
              "      <td>28260.869565</td>\n",
              "    </tr>\n",
              "  </tbody>\n",
              "</table>\n",
              "</div>"
            ],
            "text/plain": [
              "                  area_type              availability  ... BHK  price_per_sqft\n",
              "408    Super built-up  Area  availability_count_30_40  ...   7    18333.333333\n",
              "440              Plot  Area             Ready To Move  ...   4     5887.300252\n",
              "514              Plot  Area             Ready To Move  ...   4     1705.882353\n",
              "605    Super built-up  Area  availability_count_30_40  ...   7    18333.333333\n",
              "674          Built-up  Area             Ready To Move  ...   3      371.428571\n",
              "810              Plot  Area                    18-Apr  ...   4      729.860414\n",
              "1234             Plot  Area             Ready To Move  ...   4     5714.285714\n",
              "1894             Plot  Area             Ready To Move  ...   3      267.829813\n",
              "2108             Plot  Area             Ready To Move  ...   5     5729.166667\n",
              "2623             Plot  Area                    18-Jul  ...   4     7000.000000\n",
              "3180   Super built-up  Area             Ready To Move  ...   5    32448.023074\n",
              "4308             Plot  Area             Ready To Move  ...   4     4500.000000\n",
              "5393   Super built-up  Area             Ready To Move  ...   9      416.666667\n",
              "5469   Super built-up  Area             Ready To Move  ...   4     1250.000000\n",
              "7242             Plot  Area             Ready To Move  ...   1      573.921028\n",
              "7855             Plot  Area             Ready To Move  ...   4    12254.901961\n",
              "7947             Plot  Area             Ready To Move  ...   3      875.000000\n",
              "8165   Super built-up  Area                    18-May  ...   4    14545.454545\n",
              "9240             Plot  Area             Ready To Move  ...   4      729.860414\n",
              "9546             Plot  Area             Ready To Move  ...   5    19500.000000\n",
              "10075            Plot  Area             Ready To Move  ...   1     1495.513460\n",
              "10304            Plot  Area             Ready To Move  ...   4    22025.602410\n",
              "10749            Plot  Area             Ready To Move  ...   5     9750.000000\n",
              "11856  Super built-up  Area             Ready To Move  ...   2     3393.665158\n",
              "12470  Super built-up  Area             Ready To Move  ...   4      912.151821\n",
              "12987            Plot  Area             Ready To Move  ...   6     6000.000000\n",
              "13197            Plot  Area             Ready To Move  ...   4    28260.869565\n",
              "\n",
              "[27 rows x 8 columns]"
            ]
          },
          "metadata": {},
          "execution_count": 49
        }
      ]
    },
    {
      "cell_type": "code",
      "metadata": {
        "colab": {
          "base_uri": "https://localhost:8080/"
        },
        "id": "Yg-YOP0bUDr3",
        "outputId": "ae0d235e-ad3e-494b-a9a7-dd09cea3f542"
      },
      "source": [
        "house[house['total_sqft']>8000].shape"
      ],
      "execution_count": 50,
      "outputs": [
        {
          "output_type": "execute_result",
          "data": {
            "text/plain": [
              "(27, 8)"
            ]
          },
          "metadata": {},
          "execution_count": 50
        }
      ]
    },
    {
      "cell_type": "code",
      "metadata": {
        "id": "yeatDti_UgXf"
      },
      "source": [
        "house=house[house['total_sqft']<=8000]"
      ],
      "execution_count": 51,
      "outputs": []
    },
    {
      "cell_type": "code",
      "metadata": {
        "colab": {
          "base_uri": "https://localhost:8080/"
        },
        "id": "alPmEzzkViUH",
        "outputId": "51d4d862-63b3-43aa-894d-45774d67e109"
      },
      "source": [
        "house.info()"
      ],
      "execution_count": 52,
      "outputs": [
        {
          "output_type": "stream",
          "name": "stdout",
          "text": [
            "<class 'pandas.core.frame.DataFrame'>\n",
            "Int64Index: 11873 entries, 0 to 13319\n",
            "Data columns (total 8 columns):\n",
            " #   Column          Non-Null Count  Dtype  \n",
            "---  ------          --------------  -----  \n",
            " 0   area_type       11873 non-null  object \n",
            " 1   availability    11873 non-null  object \n",
            " 2   location        11873 non-null  object \n",
            " 3   total_sqft      11873 non-null  float64\n",
            " 4   bath            11873 non-null  float64\n",
            " 5   price           11873 non-null  float64\n",
            " 6   BHK             11873 non-null  int64  \n",
            " 7   price_per_sqft  11873 non-null  float64\n",
            "dtypes: float64(4), int64(1), object(3)\n",
            "memory usage: 834.8+ KB\n"
          ]
        }
      ]
    },
    {
      "cell_type": "code",
      "metadata": {
        "id": "cTQvcSfiV9fR",
        "colab": {
          "base_uri": "https://localhost:8080/"
        },
        "outputId": "a5685602-8a08-4717-a38d-6f5cf4e102ba"
      },
      "source": [
        "house.drop('price_per_sqft',axis=1,inplace=True)"
      ],
      "execution_count": 53,
      "outputs": [
        {
          "output_type": "stream",
          "name": "stderr",
          "text": [
            "/usr/local/lib/python3.7/dist-packages/pandas/core/frame.py:4174: SettingWithCopyWarning: \n",
            "A value is trying to be set on a copy of a slice from a DataFrame\n",
            "\n",
            "See the caveats in the documentation: https://pandas.pydata.org/pandas-docs/stable/user_guide/indexing.html#returning-a-view-versus-a-copy\n",
            "  errors=errors,\n"
          ]
        }
      ]
    },
    {
      "cell_type": "code",
      "metadata": {
        "colab": {
          "base_uri": "https://localhost:8080/",
          "height": 294
        },
        "id": "8QRRpgEUVbe2",
        "outputId": "55f3cd1c-86e1-4561-cb79-32a4a70c9972"
      },
      "source": [
        "house.describe()"
      ],
      "execution_count": 54,
      "outputs": [
        {
          "output_type": "execute_result",
          "data": {
            "text/html": [
              "<div>\n",
              "<style scoped>\n",
              "    .dataframe tbody tr th:only-of-type {\n",
              "        vertical-align: middle;\n",
              "    }\n",
              "\n",
              "    .dataframe tbody tr th {\n",
              "        vertical-align: top;\n",
              "    }\n",
              "\n",
              "    .dataframe thead th {\n",
              "        text-align: right;\n",
              "    }\n",
              "</style>\n",
              "<table border=\"1\" class=\"dataframe\">\n",
              "  <thead>\n",
              "    <tr style=\"text-align: right;\">\n",
              "      <th></th>\n",
              "      <th>total_sqft</th>\n",
              "      <th>bath</th>\n",
              "      <th>price</th>\n",
              "      <th>BHK</th>\n",
              "    </tr>\n",
              "  </thead>\n",
              "  <tbody>\n",
              "    <tr>\n",
              "      <th>count</th>\n",
              "      <td>11873.000000</td>\n",
              "      <td>11873.000000</td>\n",
              "      <td>11873.000000</td>\n",
              "      <td>11873.000000</td>\n",
              "    </tr>\n",
              "    <tr>\n",
              "      <th>mean</th>\n",
              "      <td>1459.396193</td>\n",
              "      <td>2.434010</td>\n",
              "      <td>97.524042</td>\n",
              "      <td>2.622336</td>\n",
              "    </tr>\n",
              "    <tr>\n",
              "      <th>std</th>\n",
              "      <td>704.670011</td>\n",
              "      <td>0.899917</td>\n",
              "      <td>106.065632</td>\n",
              "      <td>0.962161</td>\n",
              "    </tr>\n",
              "    <tr>\n",
              "      <th>min</th>\n",
              "      <td>284.000000</td>\n",
              "      <td>1.000000</td>\n",
              "      <td>8.000000</td>\n",
              "      <td>1.000000</td>\n",
              "    </tr>\n",
              "    <tr>\n",
              "      <th>25%</th>\n",
              "      <td>1100.000000</td>\n",
              "      <td>2.000000</td>\n",
              "      <td>48.000000</td>\n",
              "      <td>2.000000</td>\n",
              "    </tr>\n",
              "    <tr>\n",
              "      <th>50%</th>\n",
              "      <td>1260.000000</td>\n",
              "      <td>2.000000</td>\n",
              "      <td>67.390000</td>\n",
              "      <td>2.000000</td>\n",
              "    </tr>\n",
              "    <tr>\n",
              "      <th>75%</th>\n",
              "      <td>1600.000000</td>\n",
              "      <td>3.000000</td>\n",
              "      <td>105.000000</td>\n",
              "      <td>3.000000</td>\n",
              "    </tr>\n",
              "    <tr>\n",
              "      <th>max</th>\n",
              "      <td>8000.000000</td>\n",
              "      <td>9.000000</td>\n",
              "      <td>2800.000000</td>\n",
              "      <td>9.000000</td>\n",
              "    </tr>\n",
              "  </tbody>\n",
              "</table>\n",
              "</div>"
            ],
            "text/plain": [
              "         total_sqft          bath         price           BHK\n",
              "count  11873.000000  11873.000000  11873.000000  11873.000000\n",
              "mean    1459.396193      2.434010     97.524042      2.622336\n",
              "std      704.670011      0.899917    106.065632      0.962161\n",
              "min      284.000000      1.000000      8.000000      1.000000\n",
              "25%     1100.000000      2.000000     48.000000      2.000000\n",
              "50%     1260.000000      2.000000     67.390000      2.000000\n",
              "75%     1600.000000      3.000000    105.000000      3.000000\n",
              "max     8000.000000      9.000000   2800.000000      9.000000"
            ]
          },
          "metadata": {},
          "execution_count": 54
        }
      ]
    },
    {
      "cell_type": "markdown",
      "metadata": {
        "id": "R5SXOfcwaG97"
      },
      "source": [
        "# **3. Exploratory Data Analysis**"
      ]
    },
    {
      "cell_type": "code",
      "metadata": {
        "colab": {
          "base_uri": "https://localhost:8080/",
          "height": 202
        },
        "id": "4HXROyfEfHl1",
        "outputId": "e1bea602-c992-46b2-bd04-082e9af2cceb"
      },
      "source": [
        "house.head()"
      ],
      "execution_count": 55,
      "outputs": [
        {
          "output_type": "execute_result",
          "data": {
            "text/html": [
              "<div>\n",
              "<style scoped>\n",
              "    .dataframe tbody tr th:only-of-type {\n",
              "        vertical-align: middle;\n",
              "    }\n",
              "\n",
              "    .dataframe tbody tr th {\n",
              "        vertical-align: top;\n",
              "    }\n",
              "\n",
              "    .dataframe thead th {\n",
              "        text-align: right;\n",
              "    }\n",
              "</style>\n",
              "<table border=\"1\" class=\"dataframe\">\n",
              "  <thead>\n",
              "    <tr style=\"text-align: right;\">\n",
              "      <th></th>\n",
              "      <th>area_type</th>\n",
              "      <th>availability</th>\n",
              "      <th>location</th>\n",
              "      <th>total_sqft</th>\n",
              "      <th>bath</th>\n",
              "      <th>price</th>\n",
              "      <th>BHK</th>\n",
              "    </tr>\n",
              "  </thead>\n",
              "  <tbody>\n",
              "    <tr>\n",
              "      <th>0</th>\n",
              "      <td>Super built-up  Area</td>\n",
              "      <td>19-Dec</td>\n",
              "      <td>Electronic City Phase II</td>\n",
              "      <td>1056.0</td>\n",
              "      <td>2.0</td>\n",
              "      <td>39.07</td>\n",
              "      <td>2</td>\n",
              "    </tr>\n",
              "    <tr>\n",
              "      <th>2</th>\n",
              "      <td>Built-up  Area</td>\n",
              "      <td>Ready To Move</td>\n",
              "      <td>Uttarahalli</td>\n",
              "      <td>1440.0</td>\n",
              "      <td>2.0</td>\n",
              "      <td>62.00</td>\n",
              "      <td>3</td>\n",
              "    </tr>\n",
              "    <tr>\n",
              "      <th>3</th>\n",
              "      <td>Super built-up  Area</td>\n",
              "      <td>Ready To Move</td>\n",
              "      <td>Lingadheeranahalli</td>\n",
              "      <td>1521.0</td>\n",
              "      <td>3.0</td>\n",
              "      <td>95.00</td>\n",
              "      <td>3</td>\n",
              "    </tr>\n",
              "    <tr>\n",
              "      <th>4</th>\n",
              "      <td>Super built-up  Area</td>\n",
              "      <td>Ready To Move</td>\n",
              "      <td>Kothanur</td>\n",
              "      <td>1200.0</td>\n",
              "      <td>2.0</td>\n",
              "      <td>51.00</td>\n",
              "      <td>2</td>\n",
              "    </tr>\n",
              "    <tr>\n",
              "      <th>5</th>\n",
              "      <td>Super built-up  Area</td>\n",
              "      <td>Ready To Move</td>\n",
              "      <td>Whitefield</td>\n",
              "      <td>1170.0</td>\n",
              "      <td>2.0</td>\n",
              "      <td>38.00</td>\n",
              "      <td>2</td>\n",
              "    </tr>\n",
              "  </tbody>\n",
              "</table>\n",
              "</div>"
            ],
            "text/plain": [
              "              area_type   availability  ...  price  BHK\n",
              "0  Super built-up  Area         19-Dec  ...  39.07    2\n",
              "2        Built-up  Area  Ready To Move  ...  62.00    3\n",
              "3  Super built-up  Area  Ready To Move  ...  95.00    3\n",
              "4  Super built-up  Area  Ready To Move  ...  51.00    2\n",
              "5  Super built-up  Area  Ready To Move  ...  38.00    2\n",
              "\n",
              "[5 rows x 7 columns]"
            ]
          },
          "metadata": {},
          "execution_count": 55
        }
      ]
    },
    {
      "cell_type": "markdown",
      "metadata": {
        "id": "bbppz7RmfRSC"
      },
      "source": [
        ">> **price**"
      ]
    },
    {
      "cell_type": "code",
      "metadata": {
        "id": "8HpkrYmsaLy-"
      },
      "source": [
        "import seaborn as sns"
      ],
      "execution_count": 56,
      "outputs": []
    },
    {
      "cell_type": "markdown",
      "metadata": {
        "id": "Jnv7yjyQfWeo"
      },
      "source": [
        ">> **total_sqft_bhk ratio**"
      ]
    },
    {
      "cell_type": "code",
      "metadata": {
        "colab": {
          "base_uri": "https://localhost:8080/",
          "height": 352
        },
        "id": "B0j1e4LyeCU_",
        "outputId": "cc1fc6bc-f4f4-45f0-a584-bfe50a128f99"
      },
      "source": [
        "sns.distplot((house['price']))"
      ],
      "execution_count": 57,
      "outputs": [
        {
          "output_type": "stream",
          "name": "stderr",
          "text": [
            "/usr/local/lib/python3.7/dist-packages/seaborn/distributions.py:2619: FutureWarning: `distplot` is a deprecated function and will be removed in a future version. Please adapt your code to use either `displot` (a figure-level function with similar flexibility) or `histplot` (an axes-level function for histograms).\n",
            "  warnings.warn(msg, FutureWarning)\n"
          ]
        },
        {
          "output_type": "execute_result",
          "data": {
            "text/plain": [
              "<matplotlib.axes._subplots.AxesSubplot at 0x7f8d662448d0>"
            ]
          },
          "metadata": {},
          "execution_count": 57
        },
        {
          "output_type": "display_data",
          "data": {
            "image/png": "[encoded data removed]",
            "text/plain": [
              "<Figure size 432x288 with 1 Axes>"
            ]
          },
          "metadata": {
            "needs_background": "light"
          }
        }
      ]
    },
    {
      "cell_type": "code",
      "metadata": {
        "colab": {
          "base_uri": "https://localhost:8080/",
          "height": 352
        },
        "id": "WVyB_U87ahmd",
        "outputId": "5c33e2a3-4b70-49d4-dc1c-96ffa8d1b043"
      },
      "source": [
        "sns.distplot(np.log(house['price']))"
      ],
      "execution_count": 58,
      "outputs": [
        {
          "output_type": "stream",
          "name": "stderr",
          "text": [
            "/usr/local/lib/python3.7/dist-packages/seaborn/distributions.py:2619: FutureWarning: `distplot` is a deprecated function and will be removed in a future version. Please adapt your code to use either `displot` (a figure-level function with similar flexibility) or `histplot` (an axes-level function for histograms).\n",
            "  warnings.warn(msg, FutureWarning)\n"
          ]
        },
        {
          "output_type": "execute_result",
          "data": {
            "text/plain": [
              "<matplotlib.axes._subplots.AxesSubplot at 0x7f8d6628f450>"
            ]
          },
          "metadata": {},
          "execution_count": 58
        },
        {
          "output_type": "display_data",
          "data": {
            "image/png": "[encoded data removed]",
            "text/plain": [
              "<Figure size 432x288 with 1 Axes>"
            ]
          },
          "metadata": {
            "needs_background": "light"
          }
        }
      ]
    },
    {
      "cell_type": "markdown",
      "metadata": {
        "id": "xjiD1d_WfY11"
      },
      "source": [
        ">> **area_type**"
      ]
    },
    {
      "cell_type": "code",
      "metadata": {
        "colab": {
          "base_uri": "https://localhost:8080/",
          "height": 363
        },
        "id": "9KA5Xz5KfdIT",
        "outputId": "b987e1af-dc1c-4f08-da2a-47f089328521"
      },
      "source": [
        "sns.barplot(x=house['area_type'],y=house['price'])\n",
        "plt.xlabel(\"Area_type\",fontweight='bold')\n",
        "plt.ylabel(\"Price\",fontweight='bold')\n",
        "plt.title(\"Price of house area_type wise\",fontweight='bold')\n",
        "plt.xticks(rotation=45)\n",
        "plt.show()"
      ],
      "execution_count": 59,
      "outputs": [
        {
          "output_type": "display_data",
          "data": {
            "image/png": "[encoded data removed]",
            "text/plain": [
              "<Figure size 432x288 with 1 Axes>"
            ]
          },
          "metadata": {
            "needs_background": "light"
          }
        }
      ]
    },
    {
      "cell_type": "code",
      "metadata": {
        "colab": {
          "base_uri": "https://localhost:8080/",
          "height": 282
        },
        "id": "aQwHci96f7qD",
        "outputId": "fc190659-c009-411a-d848-ddad869e7ab1"
      },
      "source": [
        "house['area_type'].value_counts().plot.pie(autopct=\"%1.2f%%\",shadow=True,fontsize=15,startangle=30)\n",
        "plt.title(\"Piechart area_type\",fontweight=\"bold\")"
      ],
      "execution_count": 60,
      "outputs": [
        {
          "output_type": "execute_result",
          "data": {
            "text/plain": [
              "Text(0.5, 1.0, 'Piechart area_type')"
            ]
          },
          "metadata": {},
          "execution_count": 60
        },
        {
          "output_type": "display_data",
          "data": {
            "image/png": "[encoded data removed]",
            "text/plain": [
              "<Figure size 432x288 with 1 Axes>"
            ]
          },
          "metadata": {}
        }
      ]
    },
    {
      "cell_type": "code",
      "metadata": {
        "colab": {
          "base_uri": "https://localhost:8080/",
          "height": 384
        },
        "id": "7pFgu7dvl4bs",
        "outputId": "bc57026f-698b-4142-e535-237aa60150d0"
      },
      "source": [
        "house[\"area_type\"].value_counts().plot.bar()\n",
        "plt.xlabel(\"area type\")\n",
        "plt.ylabel(\"Number of Houses area type wise\")\n",
        "plt.title(\"Bar graph of Number of houses by area_type\")\n",
        "plt.show()"
      ],
      "execution_count": 61,
      "outputs": [
        {
          "output_type": "display_data",
          "data": {
            "image/png": "[encoded data removed]",
            "text/plain": [
              "<Figure size 432x288 with 1 Axes>"
            ]
          },
          "metadata": {
            "needs_background": "light"
          }
        }
      ]
    },
    {
      "cell_type": "markdown",
      "metadata": {
        "id": "QrAiLjunmlDc"
      },
      "source": [
        ">> **availability**"
      ]
    },
    {
      "cell_type": "code",
      "metadata": {
        "colab": {
          "base_uri": "https://localhost:8080/"
        },
        "id": "UzsfdwuIfges",
        "outputId": "4272480b-3f06-4df8-ccde-8616667cacc9"
      },
      "source": [
        "house.availability.value_counts()"
      ],
      "execution_count": 62,
      "outputs": [
        {
          "output_type": "execute_result",
          "data": {
            "text/plain": [
              "Ready To Move                 9388\n",
              "availability_count_90_100      274\n",
              "18-May                         271\n",
              "18-Dec                         269\n",
              "18-Apr                         246\n",
              "availability_count_10_20       199\n",
              "18-Aug                         197\n",
              "19-Dec                         172\n",
              "availability_count_less_10     144\n",
              "availability_count_30_40       136\n",
              "18-Jul                         131\n",
              "availability_count_40_50       122\n",
              "18-Mar                         109\n",
              "availability_count_20_30        86\n",
              "availability_count_80_90        80\n",
              "availability_count_60_70        49\n",
              "Name: availability, dtype: int64"
            ]
          },
          "metadata": {},
          "execution_count": 62
        }
      ]
    },
    {
      "cell_type": "code",
      "metadata": {
        "colab": {
          "base_uri": "https://localhost:8080/",
          "height": 414
        },
        "id": "M75hzBGUfqVp",
        "outputId": "266116e3-062b-4fc3-a634-f329e5528ae4"
      },
      "source": [
        "sns.barplot(x=house['availability'],y=house['price'])\n",
        "plt.xlabel(\"Area_type\",fontweight='bold')\n",
        "plt.ylabel(\"Price\",fontweight='bold')\n",
        "plt.title(\"Price of house availability wise\",fontweight='bold')\n",
        "plt.xticks(rotation=90)\n",
        "plt.show()"
      ],
      "execution_count": 63,
      "outputs": [
        {
          "output_type": "display_data",
          "data": {
            "image/png": "[encoded data removed]",
            "text/plain": [
              "<Figure size 432x288 with 1 Axes>"
            ]
          },
          "metadata": {
            "needs_background": "light"
          }
        }
      ]
    },
    {
      "cell_type": "code",
      "metadata": {
        "colab": {
          "base_uri": "https://localhost:8080/",
          "height": 264
        },
        "id": "Dd3xXU3Um2vF",
        "outputId": "fe0be2de-3ae4-4cc9-c1a7-c03e62a2ddaa"
      },
      "source": [
        "house['availability'].value_counts().plot.pie(autopct=\"%1.2f%%\",shadow=True,fontsize=15,startangle=30)\n",
        "plt.title(\"Pie chart availability\",fontweight=\"bold\")\n",
        "plt.show()"
      ],
      "execution_count": 64,
      "outputs": [
        {
          "output_type": "display_data",
          "data": {
            "image/png": "[encoded data removed]",
            "text/plain": [
              "<Figure size 432x288 with 1 Axes>"
            ]
          },
          "metadata": {}
        }
      ]
    },
    {
      "cell_type": "code",
      "metadata": {
        "colab": {
          "base_uri": "https://localhost:8080/",
          "height": 414
        },
        "id": "nXl1jUAom3ZQ",
        "outputId": "c6502bab-c86a-4af5-e946-0d5cabc57c7c"
      },
      "source": [
        "house[\"availability\"].value_counts().plot.bar()\n",
        "plt.xlabel(\"availability\")\n",
        "plt.ylabel(\"Number of Houses availability wise\")\n",
        "plt.title(\"Bar graph of Number of houses by area_type\")\n",
        "plt.show()"
      ],
      "execution_count": 65,
      "outputs": [
        {
          "output_type": "display_data",
          "data": {
            "image/png": "[encoded data removed]",
            "text/plain": [
              "<Figure size 432x288 with 1 Axes>"
            ]
          },
          "metadata": {
            "needs_background": "light"
          }
        }
      ]
    },
    {
      "cell_type": "markdown",
      "metadata": {
        "id": "GtIIiS9phl5z"
      },
      "source": [
        ">> **total_sqft**"
      ]
    },
    {
      "cell_type": "code",
      "metadata": {
        "colab": {
          "base_uri": "https://localhost:8080/",
          "height": 345
        },
        "id": "VtLKhZxYhM16",
        "outputId": "c9d2fe62-c9f1-41df-b355-211af87e6778"
      },
      "source": [
        "sns.scatterplot(x=house['total_sqft'],y=house['price'])\n",
        "plt.xlabel(\"Total Square feet\",fontweight='bold')\n",
        "plt.ylabel(\"Price\",fontweight='bold')\n",
        "plt.title(\"Price of house total square feet wise\",fontweight='bold')\n",
        "plt.xticks(rotation=45)"
      ],
      "execution_count": 66,
      "outputs": [
        {
          "output_type": "execute_result",
          "data": {
            "text/plain": [
              "(array([-1000.,     0.,  1000.,  2000.,  3000.,  4000.,  5000.,  6000.,\n",
              "         7000.,  8000.,  9000.]), <a list of 11 Text major ticklabel objects>)"
            ]
          },
          "metadata": {},
          "execution_count": 66
        },
        {
          "output_type": "display_data",
          "data": {
            "image/png": "[encoded data removed]",
            "text/plain": [
              "<Figure size 432x288 with 1 Axes>"
            ]
          },
          "metadata": {
            "needs_background": "light"
          }
        }
      ]
    },
    {
      "cell_type": "code",
      "metadata": {
        "colab": {
          "base_uri": "https://localhost:8080/",
          "height": 312
        },
        "id": "div6p9eRiDqO",
        "outputId": "7f4333f9-a968-488c-d336-f3b9fb3b8642"
      },
      "source": [
        "plt.hist(house['total_sqft'])\n",
        "plt.xlabel(\"Total square feet range\",fontweight='bold')\n",
        "plt.ylabel(\"Nuber ofHouses\",fontweight='bold')\n",
        "plt.title(\"Histogram of Total square feet\",fontweight='bold')"
      ],
      "execution_count": 67,
      "outputs": [
        {
          "output_type": "execute_result",
          "data": {
            "text/plain": [
              "Text(0.5, 1.0, 'Histogram of Total square feet')"
            ]
          },
          "metadata": {},
          "execution_count": 67
        },
        {
          "output_type": "display_data",
          "data": {
            "image/png": "[encoded data removed]",
            "text/plain": [
              "<Figure size 432x288 with 1 Axes>"
            ]
          },
          "metadata": {
            "needs_background": "light"
          }
        }
      ]
    },
    {
      "cell_type": "markdown",
      "metadata": {
        "id": "Fn9mYlzFjgMz"
      },
      "source": [
        ">> **bath**"
      ]
    },
    {
      "cell_type": "code",
      "metadata": {
        "colab": {
          "base_uri": "https://localhost:8080/",
          "height": 340
        },
        "id": "a8SzMXKwjjIJ",
        "outputId": "08499732-3691-4dbf-e35e-810ad0d05241"
      },
      "source": [
        "sns.barplot(x=house['bath'],y=house['price'])\n",
        "plt.xlabel(\"Bathrooms\",fontweight='bold')\n",
        "plt.ylabel(\"Price\",fontweight='bold')\n",
        "plt.title(\"Price of house bathrooms wise\",fontweight='bold')\n",
        "plt.xticks(rotation=45)"
      ],
      "execution_count": 68,
      "outputs": [
        {
          "output_type": "execute_result",
          "data": {
            "text/plain": [
              "(array([0, 1, 2, 3, 4, 5, 6, 7, 8]),\n",
              " <a list of 9 Text major ticklabel objects>)"
            ]
          },
          "metadata": {},
          "execution_count": 68
        },
        {
          "output_type": "display_data",
          "data": {
            "image/png": "[encoded data removed]",
            "text/plain": [
              "<Figure size 432x288 with 1 Axes>"
            ]
          },
          "metadata": {
            "needs_background": "light"
          }
        }
      ]
    },
    {
      "cell_type": "markdown",
      "metadata": {
        "id": "u2xOgusJkCx9"
      },
      "source": [
        ">> **BHK**"
      ]
    },
    {
      "cell_type": "code",
      "metadata": {
        "colab": {
          "base_uri": "https://localhost:8080/",
          "height": 332
        },
        "id": "9Qbdpw4ykF1Z",
        "outputId": "758201fb-d315-4725-da73-430ce744322c"
      },
      "source": [
        "sns.barplot(x=house['BHK'],y=house['price'])\n",
        "plt.xlabel(\"Bedrooms Hall Kitchen\",fontweight='bold')\n",
        "plt.ylabel(\"Price\",fontweight='bold')\n",
        "plt.title(\"Price of house bathrooms wise\",fontweight='bold')\n",
        "plt.xticks(rotation=45)"
      ],
      "execution_count": 69,
      "outputs": [
        {
          "output_type": "execute_result",
          "data": {
            "text/plain": [
              "(array([0, 1, 2, 3, 4, 5, 6, 7, 8]),\n",
              " <a list of 9 Text major ticklabel objects>)"
            ]
          },
          "metadata": {},
          "execution_count": 69
        },
        {
          "output_type": "display_data",
          "data": {
            "image/png": "[encoded data removed]",
            "text/plain": [
              "<Figure size 432x288 with 1 Axes>"
            ]
          },
          "metadata": {
            "needs_background": "light"
          }
        }
      ]
    },
    {
      "cell_type": "code",
      "metadata": {
        "id": "GIqBF0ZDkOZX"
      },
      "source": [
        ""
      ],
      "execution_count": 69,
      "outputs": []
    },
    {
      "cell_type": "markdown",
      "metadata": {
        "id": "zh2hNqRw1Zhu"
      },
      "source": [
        "# **4. Model Building**"
      ]
    },
    {
      "cell_type": "code",
      "metadata": {
        "colab": {
          "base_uri": "https://localhost:8080/"
        },
        "id": "IV5CfhFM3I6S",
        "outputId": "6c25394f-9ac9-4152-cf2a-d988f0c0b2cb"
      },
      "source": [
        "house.info()"
      ],
      "execution_count": 70,
      "outputs": [
        {
          "output_type": "stream",
          "name": "stdout",
          "text": [
            "<class 'pandas.core.frame.DataFrame'>\n",
            "Int64Index: 11873 entries, 0 to 13319\n",
            "Data columns (total 7 columns):\n",
            " #   Column        Non-Null Count  Dtype  \n",
            "---  ------        --------------  -----  \n",
            " 0   area_type     11873 non-null  object \n",
            " 1   availability  11873 non-null  object \n",
            " 2   location      11873 non-null  object \n",
            " 3   total_sqft    11873 non-null  float64\n",
            " 4   bath          11873 non-null  float64\n",
            " 5   price         11873 non-null  float64\n",
            " 6   BHK           11873 non-null  int64  \n",
            "dtypes: float64(3), int64(1), object(3)\n",
            "memory usage: 1.0+ MB\n"
          ]
        }
      ]
    },
    {
      "cell_type": "code",
      "metadata": {
        "id": "ytaXQ6Jl1doV"
      },
      "source": [
        "x=house.drop(columns=['price'])\n",
        "y=(house['price'])"
      ],
      "execution_count": 71,
      "outputs": []
    },
    {
      "cell_type": "code",
      "metadata": {
        "id": "H7rqZo8V2Q7c"
      },
      "source": [
        "from sklearn.model_selection import train_test_split\n",
        "from sklearn.linear_model import LinearRegression,Lasso,Ridge\n",
        "from sklearn.preprocessing import OneHotEncoder,StandardScaler\n",
        "from sklearn.compose import make_column_transformer\n",
        "from sklearn.pipeline import make_pipeline\n",
        "from sklearn.metrics import r2_score"
      ],
      "execution_count": 72,
      "outputs": []
    },
    {
      "cell_type": "code",
      "metadata": {
        "colab": {
          "base_uri": "https://localhost:8080/"
        },
        "id": "IU5WdngV2het",
        "outputId": "63589f63-0f8a-4e17-de69-994a9a905455"
      },
      "source": [
        "from sklearn.preprocessing import OneHotEncoder\n",
        "ohe=OneHotEncoder(sparse=False)\n",
        "ohe.fit(x[['area_type','availability','location']])"
      ],
      "execution_count": 73,
      "outputs": [
        {
          "output_type": "execute_result",
          "data": {
            "text/plain": [
              "OneHotEncoder(categories='auto', drop=None, dtype=<class 'numpy.float64'>,\n",
              "              handle_unknown='error', sparse=False)"
            ]
          },
          "metadata": {},
          "execution_count": 73
        }
      ]
    },
    {
      "cell_type": "code",
      "metadata": {
        "id": "43Vka7H_35Q8"
      },
      "source": [
        "from sklearn.compose import make_column_transformer\n",
        "from sklearn.pipeline import make_pipeline"
      ],
      "execution_count": 74,
      "outputs": []
    },
    {
      "cell_type": "code",
      "metadata": {
        "id": "9kbA6Jwu4UKf"
      },
      "source": [
        "column_transformed=make_column_transformer((OneHotEncoder(ohe.categories_),['area_type','availability','location']),remainder='passthrough')"
      ],
      "execution_count": 75,
      "outputs": []
    },
    {
      "cell_type": "code",
      "metadata": {
        "id": "hdkyhRSJ4sCX"
      },
      "source": [
        "from sklearn.linear_model import LinearRegression\n",
        "from sklearn.metrics import r2_score"
      ],
      "execution_count": 76,
      "outputs": []
    },
    {
      "cell_type": "markdown",
      "metadata": {
        "id": "tQ0FVVoD_Y5Y"
      },
      "source": [
        ">> **Linear Regression**"
      ]
    },
    {
      "cell_type": "code",
      "metadata": {
        "id": "BLu9v4ZF40iR"
      },
      "source": [
        "lr=LinearRegression()"
      ],
      "execution_count": 77,
      "outputs": []
    },
    {
      "cell_type": "code",
      "metadata": {
        "id": "R8rznh5y446w"
      },
      "source": [
        "from sklearn.model_selection import train_test_split\n",
        "x_train,x_test,y_train,y_test=train_test_split(x,y,test_size=0.2,random_state=5)"
      ],
      "execution_count": 78,
      "outputs": []
    },
    {
      "cell_type": "code",
      "metadata": {
        "id": "MGWhD5-1-F_r"
      },
      "source": [
        "pipe=make_pipeline(column_transformed,lr)"
      ],
      "execution_count": 79,
      "outputs": []
    },
    {
      "cell_type": "code",
      "metadata": {
        "colab": {
          "base_uri": "https://localhost:8080/"
        },
        "id": "H7YEAMBo-UnP",
        "outputId": "26e9c545-4968-4b53-f4c7-1ba9cd8f8f06"
      },
      "source": [
        "pipe.fit(x_train,y_train)"
      ],
      "execution_count": 80,
      "outputs": [
        {
          "output_type": "execute_result",
          "data": {
            "text/plain": [
              "Pipeline(memory=None,\n",
              "         steps=[('columntransformer',\n",
              "                 ColumnTransformer(n_jobs=None, remainder='passthrough',\n",
              "                                   sparse_threshold=0.3,\n",
              "                                   transformer_weights=None,\n",
              "                                   transformers=[('onehotencoder',\n",
              "                                                  OneHotEncoder(categories=[array(['Built-up  Area', 'Carpet  Area', 'Plot  Area',\n",
              "       'Super built-up  Area'], dtype=object),\n",
              "                                                                            array(['18-Apr', '18-Aug', '18-Dec', '18-Jul', '18-Mar', '18-May',\n",
              "       '1...\n",
              "       'Vishwapriya Layout', 'Vittasandra', 'Whitefield',\n",
              "       'Yelachenahalli', 'Yelahanka', 'Yelahanka New Town', 'Yelenahalli',\n",
              "       'Yeshwanthpur'], dtype=object)],\n",
              "                                                                drop=None,\n",
              "                                                                dtype=<class 'numpy.float64'>,\n",
              "                                                                handle_unknown='error',\n",
              "                                                                sparse=True),\n",
              "                                                  ['area_type', 'availability',\n",
              "                                                   'location'])],\n",
              "                                   verbose=False)),\n",
              "                ('linearregression',\n",
              "                 LinearRegression(copy_X=True, fit_intercept=True, n_jobs=None,\n",
              "                                  normalize=False))],\n",
              "         verbose=False)"
            ]
          },
          "metadata": {},
          "execution_count": 80
        }
      ]
    },
    {
      "cell_type": "code",
      "metadata": {
        "id": "zNoJzkUy-ZIV"
      },
      "source": [
        "y_pred_linear=pipe.predict(x_test)"
      ],
      "execution_count": 81,
      "outputs": []
    },
    {
      "cell_type": "code",
      "metadata": {
        "colab": {
          "base_uri": "https://localhost:8080/"
        },
        "id": "RNbM0sRs-kUk",
        "outputId": "5c56011c-0281-4edc-f95b-084916e96436"
      },
      "source": [
        "r2_score(y_test,y_pred_linear)"
      ],
      "execution_count": 82,
      "outputs": [
        {
          "output_type": "execute_result",
          "data": {
            "text/plain": [
              "0.5892613098520525"
            ]
          },
          "metadata": {},
          "execution_count": 82
        }
      ]
    },
    {
      "cell_type": "markdown",
      "metadata": {
        "id": "v_DY86xQ_dMd"
      },
      "source": [
        ">> **Ridge Regression**"
      ]
    },
    {
      "cell_type": "code",
      "metadata": {
        "id": "fChXmXPB-vXO"
      },
      "source": [
        "lasso=Lasso()"
      ],
      "execution_count": 83,
      "outputs": []
    },
    {
      "cell_type": "code",
      "metadata": {
        "id": "3DvXQYMt_jDX"
      },
      "source": [
        "pipe=make_pipeline(column_transformed,lasso)"
      ],
      "execution_count": 84,
      "outputs": []
    },
    {
      "cell_type": "code",
      "metadata": {
        "colab": {
          "base_uri": "https://localhost:8080/"
        },
        "id": "ENsr-uY9_qKr",
        "outputId": "fc8bb9f3-2887-4c70-a57e-cbd5ce9ed255"
      },
      "source": [
        "pipe.fit(x_train,y_train)"
      ],
      "execution_count": 85,
      "outputs": [
        {
          "output_type": "execute_result",
          "data": {
            "text/plain": [
              "Pipeline(memory=None,\n",
              "         steps=[('columntransformer',\n",
              "                 ColumnTransformer(n_jobs=None, remainder='passthrough',\n",
              "                                   sparse_threshold=0.3,\n",
              "                                   transformer_weights=None,\n",
              "                                   transformers=[('onehotencoder',\n",
              "                                                  OneHotEncoder(categories=[array(['Built-up  Area', 'Carpet  Area', 'Plot  Area',\n",
              "       'Super built-up  Area'], dtype=object),\n",
              "                                                                            array(['18-Apr', '18-Aug', '18-Dec', '18-Jul', '18-Mar', '18-May',\n",
              "       '1...\n",
              "       'Yeshwanthpur'], dtype=object)],\n",
              "                                                                drop=None,\n",
              "                                                                dtype=<class 'numpy.float64'>,\n",
              "                                                                handle_unknown='error',\n",
              "                                                                sparse=True),\n",
              "                                                  ['area_type', 'availability',\n",
              "                                                   'location'])],\n",
              "                                   verbose=False)),\n",
              "                ('lasso',\n",
              "                 Lasso(alpha=1.0, copy_X=True, fit_intercept=True,\n",
              "                       max_iter=1000, normalize=False, positive=False,\n",
              "                       precompute=False, random_state=None, selection='cyclic',\n",
              "                       tol=0.0001, warm_start=False))],\n",
              "         verbose=False)"
            ]
          },
          "metadata": {},
          "execution_count": 85
        }
      ]
    },
    {
      "cell_type": "code",
      "metadata": {
        "id": "JZ0WY2r6_xU6"
      },
      "source": [
        "y_pred_lasso=pipe.predict(x_test)"
      ],
      "execution_count": 86,
      "outputs": []
    },
    {
      "cell_type": "code",
      "metadata": {
        "colab": {
          "base_uri": "https://localhost:8080/"
        },
        "id": "JtwiyXy4_4YR",
        "outputId": "d3730fa2-46ef-4b2b-be93-38c1f9278789"
      },
      "source": [
        "r2_score(y_test,y_pred_lasso)"
      ],
      "execution_count": 87,
      "outputs": [
        {
          "output_type": "execute_result",
          "data": {
            "text/plain": [
              "0.5337668501336152"
            ]
          },
          "metadata": {},
          "execution_count": 87
        }
      ]
    },
    {
      "cell_type": "markdown",
      "metadata": {
        "id": "G20oJUuPAAnx"
      },
      "source": [
        ">> **Ridge Regression**"
      ]
    },
    {
      "cell_type": "code",
      "metadata": {
        "id": "q6ce1C7k_8bQ"
      },
      "source": [
        "ridge=Ridge()"
      ],
      "execution_count": 88,
      "outputs": []
    },
    {
      "cell_type": "code",
      "metadata": {
        "id": "0WJo8cbhAJxe"
      },
      "source": [
        "pipe=make_pipeline(column_transformed,ridge)"
      ],
      "execution_count": 89,
      "outputs": []
    },
    {
      "cell_type": "code",
      "metadata": {
        "colab": {
          "base_uri": "https://localhost:8080/"
        },
        "id": "uTLrGesVAONn",
        "outputId": "cb646ba5-e66a-458e-f529-1ed7be91de2f"
      },
      "source": [
        "pipe.fit(x_train,y_train)"
      ],
      "execution_count": 90,
      "outputs": [
        {
          "output_type": "execute_result",
          "data": {
            "text/plain": [
              "Pipeline(memory=None,\n",
              "         steps=[('columntransformer',\n",
              "                 ColumnTransformer(n_jobs=None, remainder='passthrough',\n",
              "                                   sparse_threshold=0.3,\n",
              "                                   transformer_weights=None,\n",
              "                                   transformers=[('onehotencoder',\n",
              "                                                  OneHotEncoder(categories=[array(['Built-up  Area', 'Carpet  Area', 'Plot  Area',\n",
              "       'Super built-up  Area'], dtype=object),\n",
              "                                                                            array(['18-Apr', '18-Aug', '18-Dec', '18-Jul', '18-Mar', '18-May',\n",
              "       '1...\n",
              "       'Yelachenahalli', 'Yelahanka', 'Yelahanka New Town', 'Yelenahalli',\n",
              "       'Yeshwanthpur'], dtype=object)],\n",
              "                                                                drop=None,\n",
              "                                                                dtype=<class 'numpy.float64'>,\n",
              "                                                                handle_unknown='error',\n",
              "                                                                sparse=True),\n",
              "                                                  ['area_type', 'availability',\n",
              "                                                   'location'])],\n",
              "                                   verbose=False)),\n",
              "                ('ridge',\n",
              "                 Ridge(alpha=1.0, copy_X=True, fit_intercept=True,\n",
              "                       max_iter=None, normalize=False, random_state=None,\n",
              "                       solver='auto', tol=0.001))],\n",
              "         verbose=False)"
            ]
          },
          "metadata": {},
          "execution_count": 90
        }
      ]
    },
    {
      "cell_type": "code",
      "metadata": {
        "id": "9KNiD_BhAROm"
      },
      "source": [
        "y_pred_ridge=pipe.predict(x_test)"
      ],
      "execution_count": 91,
      "outputs": []
    },
    {
      "cell_type": "code",
      "metadata": {
        "colab": {
          "base_uri": "https://localhost:8080/"
        },
        "id": "N2GdLYPhAWhC",
        "outputId": "9d65a7fe-b6d8-437f-e9a7-81178b5be9f4"
      },
      "source": [
        "r2_score(y_test,y_pred_ridge)"
      ],
      "execution_count": 92,
      "outputs": [
        {
          "output_type": "execute_result",
          "data": {
            "text/plain": [
              "0.48291745862227864"
            ]
          },
          "metadata": {},
          "execution_count": 92
        }
      ]
    },
    {
      "cell_type": "markdown",
      "metadata": {
        "id": "nySUBp0xActB"
      },
      "source": [
        "The accuracy is very low in these models, let's improve the model"
      ]
    },
    {
      "cell_type": "code",
      "metadata": {
        "id": "be9rAQdJAa7S"
      },
      "source": [
        ""
      ],
      "execution_count": 92,
      "outputs": []
    },
    {
      "cell_type": "markdown",
      "metadata": {
        "id": "V5BAWm0yAl4W"
      },
      "source": [
        "# **5. Model Improvement**"
      ]
    },
    {
      "cell_type": "markdown",
      "metadata": {
        "id": "KTkMZahrBVTQ"
      },
      "source": [
        ">> **Linear Regression**"
      ]
    },
    {
      "cell_type": "code",
      "metadata": {
        "id": "qporcICVAo-q"
      },
      "source": [
        "x=house.drop(columns=['price'])\n",
        "y=np.log(house['price'])"
      ],
      "execution_count": 93,
      "outputs": []
    },
    {
      "cell_type": "code",
      "metadata": {
        "id": "kTFOvnxiAxM5"
      },
      "source": [
        "x_train,x_test,y_train,y_test=train_test_split(x,y,test_size=0.2,random_state=5)"
      ],
      "execution_count": 94,
      "outputs": []
    },
    {
      "cell_type": "code",
      "metadata": {
        "id": "REtauHVvA3XI"
      },
      "source": [
        "pipe=make_pipeline(column_transformed,lr)"
      ],
      "execution_count": 95,
      "outputs": []
    },
    {
      "cell_type": "code",
      "metadata": {
        "colab": {
          "base_uri": "https://localhost:8080/"
        },
        "id": "GK7oc65eA-z7",
        "outputId": "8be443fe-cdf4-4146-93b6-c872bdf57749"
      },
      "source": [
        "pipe.fit(x_train,y_train)"
      ],
      "execution_count": 96,
      "outputs": [
        {
          "output_type": "execute_result",
          "data": {
            "text/plain": [
              "Pipeline(memory=None,\n",
              "         steps=[('columntransformer',\n",
              "                 ColumnTransformer(n_jobs=None, remainder='passthrough',\n",
              "                                   sparse_threshold=0.3,\n",
              "                                   transformer_weights=None,\n",
              "                                   transformers=[('onehotencoder',\n",
              "                                                  OneHotEncoder(categories=[array(['Built-up  Area', 'Carpet  Area', 'Plot  Area',\n",
              "       'Super built-up  Area'], dtype=object),\n",
              "                                                                            array(['18-Apr', '18-Aug', '18-Dec', '18-Jul', '18-Mar', '18-May',\n",
              "       '1...\n",
              "       'Vishwapriya Layout', 'Vittasandra', 'Whitefield',\n",
              "       'Yelachenahalli', 'Yelahanka', 'Yelahanka New Town', 'Yelenahalli',\n",
              "       'Yeshwanthpur'], dtype=object)],\n",
              "                                                                drop=None,\n",
              "                                                                dtype=<class 'numpy.float64'>,\n",
              "                                                                handle_unknown='error',\n",
              "                                                                sparse=True),\n",
              "                                                  ['area_type', 'availability',\n",
              "                                                   'location'])],\n",
              "                                   verbose=False)),\n",
              "                ('linearregression',\n",
              "                 LinearRegression(copy_X=True, fit_intercept=True, n_jobs=None,\n",
              "                                  normalize=False))],\n",
              "         verbose=False)"
            ]
          },
          "metadata": {},
          "execution_count": 96
        }
      ]
    },
    {
      "cell_type": "code",
      "metadata": {
        "id": "rE6qGAiIBCSy"
      },
      "source": [
        "y_pred_linear_log=pipe.predict(x_test)"
      ],
      "execution_count": 97,
      "outputs": []
    },
    {
      "cell_type": "code",
      "metadata": {
        "colab": {
          "base_uri": "https://localhost:8080/"
        },
        "id": "uNBQrUd6BMbo",
        "outputId": "64501bc0-e52c-44c2-943f-61a07f8b043b"
      },
      "source": [
        "r2_score(y_test,y_pred_linear_log)"
      ],
      "execution_count": 98,
      "outputs": [
        {
          "output_type": "execute_result",
          "data": {
            "text/plain": [
              "0.7333100801953232"
            ]
          },
          "metadata": {},
          "execution_count": 98
        }
      ]
    },
    {
      "cell_type": "markdown",
      "metadata": {
        "id": "Qw7t0zwJBZAJ"
      },
      "source": [
        ">> **Lasso Regression**"
      ]
    },
    {
      "cell_type": "code",
      "metadata": {
        "id": "FVQcfmdWBSeD"
      },
      "source": [
        "pipe=make_pipeline(column_transformed,lasso)"
      ],
      "execution_count": 99,
      "outputs": []
    },
    {
      "cell_type": "code",
      "metadata": {
        "colab": {
          "base_uri": "https://localhost:8080/"
        },
        "id": "4Tb6V0ILBhrL",
        "outputId": "2b482cdf-9a8b-47be-80bb-cc8f18313da3"
      },
      "source": [
        "pipe.fit(x_train,y_train)"
      ],
      "execution_count": 100,
      "outputs": [
        {
          "output_type": "execute_result",
          "data": {
            "text/plain": [
              "Pipeline(memory=None,\n",
              "         steps=[('columntransformer',\n",
              "                 ColumnTransformer(n_jobs=None, remainder='passthrough',\n",
              "                                   sparse_threshold=0.3,\n",
              "                                   transformer_weights=None,\n",
              "                                   transformers=[('onehotencoder',\n",
              "                                                  OneHotEncoder(categories=[array(['Built-up  Area', 'Carpet  Area', 'Plot  Area',\n",
              "       'Super built-up  Area'], dtype=object),\n",
              "                                                                            array(['18-Apr', '18-Aug', '18-Dec', '18-Jul', '18-Mar', '18-May',\n",
              "       '1...\n",
              "       'Yeshwanthpur'], dtype=object)],\n",
              "                                                                drop=None,\n",
              "                                                                dtype=<class 'numpy.float64'>,\n",
              "                                                                handle_unknown='error',\n",
              "                                                                sparse=True),\n",
              "                                                  ['area_type', 'availability',\n",
              "                                                   'location'])],\n",
              "                                   verbose=False)),\n",
              "                ('lasso',\n",
              "                 Lasso(alpha=1.0, copy_X=True, fit_intercept=True,\n",
              "                       max_iter=1000, normalize=False, positive=False,\n",
              "                       precompute=False, random_state=None, selection='cyclic',\n",
              "                       tol=0.0001, warm_start=False))],\n",
              "         verbose=False)"
            ]
          },
          "metadata": {},
          "execution_count": 100
        }
      ]
    },
    {
      "cell_type": "code",
      "metadata": {
        "id": "OZikD5qGBmOq"
      },
      "source": [
        "y_pred_lasso_log=pipe.predict(x_test)"
      ],
      "execution_count": 101,
      "outputs": []
    },
    {
      "cell_type": "code",
      "metadata": {
        "colab": {
          "base_uri": "https://localhost:8080/"
        },
        "id": "q24PRndlBsUc",
        "outputId": "fa67a612-0ccc-4a64-9a75-98532498dd91"
      },
      "source": [
        "r2_score(y_test,y_pred_lasso_log)"
      ],
      "execution_count": 102,
      "outputs": [
        {
          "output_type": "execute_result",
          "data": {
            "text/plain": [
              "0.5275799908966754"
            ]
          },
          "metadata": {},
          "execution_count": 102
        }
      ]
    },
    {
      "cell_type": "markdown",
      "metadata": {
        "id": "e_EJVM_SBxw1"
      },
      "source": [
        ">> **Ridge Regression**"
      ]
    },
    {
      "cell_type": "code",
      "metadata": {
        "id": "_R_owI2WBwNN"
      },
      "source": [
        "pipe=make_pipeline(column_transformed,ridge)"
      ],
      "execution_count": 103,
      "outputs": []
    },
    {
      "cell_type": "code",
      "metadata": {
        "colab": {
          "base_uri": "https://localhost:8080/"
        },
        "id": "_TPAj4_0B562",
        "outputId": "1f8024c3-b010-4a35-815b-60f24f5aee74"
      },
      "source": [
        "pipe.fit(x_train,y_train)"
      ],
      "execution_count": 104,
      "outputs": [
        {
          "output_type": "execute_result",
          "data": {
            "text/plain": [
              "Pipeline(memory=None,\n",
              "         steps=[('columntransformer',\n",
              "                 ColumnTransformer(n_jobs=None, remainder='passthrough',\n",
              "                                   sparse_threshold=0.3,\n",
              "                                   transformer_weights=None,\n",
              "                                   transformers=[('onehotencoder',\n",
              "                                                  OneHotEncoder(categories=[array(['Built-up  Area', 'Carpet  Area', 'Plot  Area',\n",
              "       'Super built-up  Area'], dtype=object),\n",
              "                                                                            array(['18-Apr', '18-Aug', '18-Dec', '18-Jul', '18-Mar', '18-May',\n",
              "       '1...\n",
              "       'Yelachenahalli', 'Yelahanka', 'Yelahanka New Town', 'Yelenahalli',\n",
              "       'Yeshwanthpur'], dtype=object)],\n",
              "                                                                drop=None,\n",
              "                                                                dtype=<class 'numpy.float64'>,\n",
              "                                                                handle_unknown='error',\n",
              "                                                                sparse=True),\n",
              "                                                  ['area_type', 'availability',\n",
              "                                                   'location'])],\n",
              "                                   verbose=False)),\n",
              "                ('ridge',\n",
              "                 Ridge(alpha=1.0, copy_X=True, fit_intercept=True,\n",
              "                       max_iter=None, normalize=False, random_state=None,\n",
              "                       solver='auto', tol=0.001))],\n",
              "         verbose=False)"
            ]
          },
          "metadata": {},
          "execution_count": 104
        }
      ]
    },
    {
      "cell_type": "code",
      "metadata": {
        "id": "jIRM-kngB8iZ"
      },
      "source": [
        "y_pred_ridge_log=pipe.predict(x_test)"
      ],
      "execution_count": 105,
      "outputs": []
    },
    {
      "cell_type": "code",
      "metadata": {
        "colab": {
          "base_uri": "https://localhost:8080/"
        },
        "id": "7Lc-vpaUCBPz",
        "outputId": "85d68192-64e5-4c4a-8eb0-2f530485b41e"
      },
      "source": [
        "r2_score(y_test,y_pred_ridge_log)"
      ],
      "execution_count": 106,
      "outputs": [
        {
          "output_type": "execute_result",
          "data": {
            "text/plain": [
              "0.5273881002803873"
            ]
          },
          "metadata": {},
          "execution_count": 106
        }
      ]
    },
    {
      "cell_type": "code",
      "metadata": {
        "colab": {
          "base_uri": "https://localhost:8080/"
        },
        "id": "LulZ7YxnCfbg",
        "outputId": "40c42132-1d40-47f4-c742-89d3f8eab9c3"
      },
      "source": [
        "print(\"Linear Regression Original Score : \",r2_score(y_test,y_pred_linear))\n",
        "print(\"Lasso Regression Original Score : \",r2_score(y_test,y_pred_lasso))\n",
        "print(\"Ridge Regression Original Score : \",r2_score(y_test,y_pred_ridge))\n",
        "print(\"-------------------------------------------------------------------------------------\")\n",
        "print(\"Linear Regression Score after taking log of the target variable : \",r2_score(y_test,y_pred_linear_log))\n",
        "print(\"Lasso Regression Score after taking log of the target variable : \",r2_score(y_test,y_pred_lasso_log))\n",
        "print(\"Ridge Regression Score after taking log of the target variable : \",r2_score(y_test,y_pred_ridge_log))"
      ],
      "execution_count": 107,
      "outputs": [
        {
          "output_type": "stream",
          "name": "stdout",
          "text": [
            "Linear Regression Original Score :  -35874.562115667286\n",
            "Lasso Regression Original Score :  -34379.94772937556\n",
            "Ridge Regression Original Score :  -33194.838618319955\n",
            "-------------------------------------------------------------------------------------\n",
            "Linear Regression Score after taking log of the target variable :  0.7333100801953232\n",
            "Lasso Regression Score after taking log of the target variable :  0.5275799908966754\n",
            "Ridge Regression Score after taking log of the target variable :  0.5273881002803873\n"
          ]
        }
      ]
    },
    {
      "cell_type": "markdown",
      "metadata": {
        "id": "Hp1ktqIjCKcA"
      },
      "source": [
        "**Therefore our selected model is the Linear Regression model where we take target as the log of the price.**"
      ]
    },
    {
      "cell_type": "code",
      "metadata": {
        "id": "dV4nrc03CEdL"
      },
      "source": [
        "import pickle"
      ],
      "execution_count": 108,
      "outputs": []
    },
    {
      "cell_type": "code",
      "metadata": {
        "id": "20FOHYJ1Dybm"
      },
      "source": [
        "pickle.dump(pipe,open('LinearModel.pk1','wb'))"
      ],
      "execution_count": 109,
      "outputs": []
    }
  ]
}